{
 "cells": [
  {
   "cell_type": "code",
   "execution_count": null,
   "metadata": {},
   "outputs": [],
   "source": [
    "# Retorna os dados de uma API: https://api.controlgov.org/empenhos/\n",
    "import requests\n",
    "import json\n",
    "import pandas as pd\n",
    "\n",
    "url = 'https://api.controlgov.org/empenhos/'\n",
    "response = requests.get(url)\n",
    "\n",
    "if response.status_code == 200:\n",
    "    data = response.json()\n",
    "    print(json.dumps(data, indent=4))\n",
    "else:\n",
    "    print('Erro ao acessar a API:', response.status_code)\n",
    "\n",
    "df_empenhos = pd.DataFrame(data['empenhos'])"
   ]
  },
  {
   "cell_type": "code",
   "execution_count": 3,
   "metadata": {},
   "outputs": [],
   "source": [
    "df = df_empenhos"
   ]
  },
  {
   "cell_type": "code",
   "execution_count": 14,
   "metadata": {},
   "outputs": [],
   "source": [
    "df = df_empenhos.copy()"
   ]
  },
  {
   "cell_type": "code",
   "execution_count": 44,
   "metadata": {},
   "outputs": [],
   "source": [
    "# Mostra todas as colunas de um display df sem os ...\n",
    "pd.set_option('display.max_columns', None)"
   ]
  },
  {
   "cell_type": "code",
   "execution_count": 42,
   "metadata": {},
   "outputs": [],
   "source": [
    "def converte_real_float(df, list_columns):\n",
    "    for column in list_columns:\n",
    "        new_column = column + '_float'\n",
    "        df[new_column] = (\n",
    "            df[column]\n",
    "            .str.replace('R\\$', '', regex=True)  # Remove currency symbol\n",
    "            .str.replace('.', '', regex=False)   # Remove thousands separator\n",
    "            .str.replace(',', '.', regex=False)  # Replace decimal commas with dots\n",
    "            .astype(float)  # Convert to float\n",
    "        )\n",
    "    return df  # Fixed return statement\n",
    "\n",
    "def converte_data_datetime(df, list_columns):\n",
    "    for column in list_columns:\n",
    "        new_column = column + '_datetime'\n",
    "        df[new_column] = pd.to_datetime(df[column], errors='coerce')\n",
    "    return df"
   ]
  },
  {
   "cell_type": "code",
   "execution_count": 45,
   "metadata": {},
   "outputs": [
    {
     "name": "stderr",
     "output_type": "stream",
     "text": [
      "C:\\Users\\renoaldo\\AppData\\Local\\Temp\\ipykernel_26000\\1155879782.py:4: UserWarning: Parsing dates in %d/%m/%Y format when dayfirst=False (the default) was specified. Pass `dayfirst=True` or specify a format to silence this warning.\n",
      "  df[new_column] = pd.to_datetime(df[column], errors='coerce')\n",
      "C:\\Users\\renoaldo\\AppData\\Local\\Temp\\ipykernel_26000\\1155879782.py:4: UserWarning: Parsing dates in %d/%m/%Y format when dayfirst=False (the default) was specified. Pass `dayfirst=True` or specify a format to silence this warning.\n",
      "  df[new_column] = pd.to_datetime(df[column], errors='coerce')\n"
     ]
    },
    {
     "data": {
      "text/html": [
       "<div>\n",
       "<style scoped>\n",
       "    .dataframe tbody tr th:only-of-type {\n",
       "        vertical-align: middle;\n",
       "    }\n",
       "\n",
       "    .dataframe tbody tr th {\n",
       "        vertical-align: top;\n",
       "    }\n",
       "\n",
       "    .dataframe thead th {\n",
       "        text-align: right;\n",
       "    }\n",
       "</style>\n",
       "<table border=\"1\" class=\"dataframe\">\n",
       "  <thead>\n",
       "    <tr style=\"text-align: right;\">\n",
       "      <th></th>\n",
       "      <th>Número</th>\n",
       "      <th>Data</th>\n",
       "      <th>Credor</th>\n",
       "      <th>Alteração</th>\n",
       "      <th>Empenhado</th>\n",
       "      <th>Liquidado</th>\n",
       "      <th>Pago</th>\n",
       "      <th>Atualizado</th>\n",
       "      <th>link_Detalhes</th>\n",
       "      <th>Poder</th>\n",
       "      <th>Função</th>\n",
       "      <th>Elemento_de_Despesa</th>\n",
       "      <th>Unid_Administradora</th>\n",
       "      <th>Subfunção</th>\n",
       "      <th>Subelemento</th>\n",
       "      <th>Unid_Orçamentária</th>\n",
       "      <th>Fonte_de_recurso</th>\n",
       "      <th>Projeto_Atividade</th>\n",
       "      <th>Categorias_de_base_legal</th>\n",
       "      <th>Histórico</th>\n",
       "      <th>Itens</th>\n",
       "      <th>Data_datetime</th>\n",
       "      <th>Atualizado_datetime</th>\n",
       "      <th>Alteração_float</th>\n",
       "      <th>Empenhado_float</th>\n",
       "      <th>Liquidado_float</th>\n",
       "      <th>Pago_float</th>\n",
       "    </tr>\n",
       "  </thead>\n",
       "  <tbody>\n",
       "    <tr>\n",
       "      <th>0</th>\n",
       "      <td>8230001</td>\n",
       "      <td>23/08/2024</td>\n",
       "      <td>***.040.305-** - EDSON GIL DOS SANTOS</td>\n",
       "      <td>R$ 0,00</td>\n",
       "      <td>R$ 300,00</td>\n",
       "      <td>R$ 300,00</td>\n",
       "      <td>R$ 300,00</td>\n",
       "      <td>23/08/2024</td>\n",
       "      <td>https://portal.sitesagapesistemas.com.br/agape...</td>\n",
       "      <td>1 - LEGISLATIVO</td>\n",
       "      <td>01 - LEGISLATIVA</td>\n",
       "      <td>3390140000 - DIARIAS - CIVIL</td>\n",
       "      <td>1 - CÂMARA MUNICIPAL DE PINHÃO</td>\n",
       "      <td>031 - ACAO LEGISLATIVA</td>\n",
       "      <td>01 - DIARIAS  DENTRO DO ESTADO</td>\n",
       "      <td>10100 - CÂMARA MUNICIPAL DE PINHÃO</td>\n",
       "      <td>15000000 - Recursos não Vinculados de Impostos</td>\n",
       "      <td>2001 - MANUTENÇÃO DAS ATIVIDADES DA CÂMARA MUN...</td>\n",
       "      <td>DISPENSADO/2024</td>\n",
       "      <td>VALOR QUE SE EMPENHA REFERENTE A DESPESA DE UM...</td>\n",
       "      <td>[[Descrição, Tipo, Quantidade, Valor unitário,...</td>\n",
       "      <td>2024-08-23</td>\n",
       "      <td>2024-08-23</td>\n",
       "      <td>0.0</td>\n",
       "      <td>300.0</td>\n",
       "      <td>300.00</td>\n",
       "      <td>300.00</td>\n",
       "    </tr>\n",
       "    <tr>\n",
       "      <th>1</th>\n",
       "      <td>8160001</td>\n",
       "      <td>16/08/2024</td>\n",
       "      <td>07166543000122 - CÂMARA MUNICIPAL DE PINHÃO</td>\n",
       "      <td>R$ 0,00</td>\n",
       "      <td>R$ 3.590,00</td>\n",
       "      <td>R$ 438,15</td>\n",
       "      <td>R$ 438,15</td>\n",
       "      <td>16/08/2024</td>\n",
       "      <td>https://portal.sitesagapesistemas.com.br/agape...</td>\n",
       "      <td>1 - LEGISLATIVO</td>\n",
       "      <td>01 - LEGISLATIVA</td>\n",
       "      <td>3190110000 - VENCIM.E VANTAGENS FIXAS-PESSOAL ...</td>\n",
       "      <td>1 - CÂMARA MUNICIPAL DE PINHÃO</td>\n",
       "      <td>031 - ACAO LEGISLATIVA</td>\n",
       "      <td>10 - ADICIONAL DE DESENPENHO/ABONO DE FERIAS</td>\n",
       "      <td>10100 - CÂMARA MUNICIPAL DE PINHÃO</td>\n",
       "      <td>15000000 - Recursos não Vinculados de Impostos</td>\n",
       "      <td>2001 - MANUTENÇÃO DAS ATIVIDADES DA CÂMARA MUN...</td>\n",
       "      <td>DISPENSADO/2024</td>\n",
       "      <td>VALOR QUE SE EMPENHA REFERENTE AO COMPLEMENTO ...</td>\n",
       "      <td>[[Descrição, Tipo, Quantidade, Valor unitário,...</td>\n",
       "      <td>2024-08-16</td>\n",
       "      <td>2024-08-16</td>\n",
       "      <td>0.0</td>\n",
       "      <td>3590.0</td>\n",
       "      <td>438.15</td>\n",
       "      <td>438.15</td>\n",
       "    </tr>\n",
       "    <tr>\n",
       "      <th>2</th>\n",
       "      <td>8080010</td>\n",
       "      <td>08/08/2024</td>\n",
       "      <td>***.957.255-** - NEY PAULO ANDRADE ALMEIDA</td>\n",
       "      <td>R$ 0,00</td>\n",
       "      <td>R$ 1.800,00</td>\n",
       "      <td>R$ 1.800,00</td>\n",
       "      <td>R$ 1.800,00</td>\n",
       "      <td>08/08/2024</td>\n",
       "      <td>https://portal.sitesagapesistemas.com.br/agape...</td>\n",
       "      <td>1 - LEGISLATIVO</td>\n",
       "      <td>01 - LEGISLATIVA</td>\n",
       "      <td>3390140000 - DIARIAS - CIVIL</td>\n",
       "      <td>1 - CÂMARA MUNICIPAL DE PINHÃO</td>\n",
       "      <td>031 - ACAO LEGISLATIVA</td>\n",
       "      <td>02 - DIARIAS PARA OUTRO ESTADO</td>\n",
       "      <td>10100 - CÂMARA MUNICIPAL DE PINHÃO</td>\n",
       "      <td>15000000 - Recursos não Vinculados de Impostos</td>\n",
       "      <td>2001 - MANUTENÇÃO DAS ATIVIDADES DA CÂMARA MUN...</td>\n",
       "      <td>DISPENSADO/2024</td>\n",
       "      <td>VALOR QUE SE EMPENHA REFERENTE A DESPESA DE TR...</td>\n",
       "      <td>[[Descrição, Tipo, Quantidade, Valor unitário,...</td>\n",
       "      <td>2024-08-08</td>\n",
       "      <td>2024-08-08</td>\n",
       "      <td>0.0</td>\n",
       "      <td>1800.0</td>\n",
       "      <td>1800.00</td>\n",
       "      <td>1800.00</td>\n",
       "    </tr>\n",
       "    <tr>\n",
       "      <th>3</th>\n",
       "      <td>7180001</td>\n",
       "      <td>18/07/2024</td>\n",
       "      <td>***.384.615-** - RENOALDO COSTA SILVA JUNIOR</td>\n",
       "      <td>R$ 0,00</td>\n",
       "      <td>R$ 1.800,00</td>\n",
       "      <td>R$ 1.800,00</td>\n",
       "      <td>R$ 1.800,00</td>\n",
       "      <td>18/07/2024</td>\n",
       "      <td>https://portal.sitesagapesistemas.com.br/agape...</td>\n",
       "      <td>1 - LEGISLATIVO</td>\n",
       "      <td>01 - LEGISLATIVA</td>\n",
       "      <td>3390140000 - DIARIAS - CIVIL</td>\n",
       "      <td>1 - CÂMARA MUNICIPAL DE PINHÃO</td>\n",
       "      <td>031 - ACAO LEGISLATIVA</td>\n",
       "      <td>02 - DIARIAS PARA OUTRO ESTADO</td>\n",
       "      <td>10100 - CÂMARA MUNICIPAL DE PINHÃO</td>\n",
       "      <td>15000000 - Recursos não Vinculados de Impostos</td>\n",
       "      <td>2001 - MANUTENÇÃO DAS ATIVIDADES DA CÂMARA MUN...</td>\n",
       "      <td>DISPENSADO/2024</td>\n",
       "      <td>VALOR QUE SE EMPENHA REFERENTE A DESPESA DE TR...</td>\n",
       "      <td>[[Descrição, Tipo, Quantidade, Valor unitário,...</td>\n",
       "      <td>2024-07-18</td>\n",
       "      <td>2024-07-18</td>\n",
       "      <td>0.0</td>\n",
       "      <td>1800.0</td>\n",
       "      <td>1800.00</td>\n",
       "      <td>1800.00</td>\n",
       "    </tr>\n",
       "    <tr>\n",
       "      <th>4</th>\n",
       "      <td>7040001</td>\n",
       "      <td>04/07/2024</td>\n",
       "      <td>***.384.615-** - RENOALDO COSTA SILVA JUNIOR</td>\n",
       "      <td>R$ 0,00</td>\n",
       "      <td>R$ 1.800,00</td>\n",
       "      <td>R$ 1.800,00</td>\n",
       "      <td>R$ 1.800,00</td>\n",
       "      <td>04/07/2024</td>\n",
       "      <td>https://portal.sitesagapesistemas.com.br/agape...</td>\n",
       "      <td>1 - LEGISLATIVO</td>\n",
       "      <td>01 - LEGISLATIVA</td>\n",
       "      <td>3390140000 - DIARIAS - CIVIL</td>\n",
       "      <td>1 - CÂMARA MUNICIPAL DE PINHÃO</td>\n",
       "      <td>031 - ACAO LEGISLATIVA</td>\n",
       "      <td>02 - DIARIAS PARA OUTRO ESTADO</td>\n",
       "      <td>10100 - CÂMARA MUNICIPAL DE PINHÃO</td>\n",
       "      <td>15000000 - Recursos não Vinculados de Impostos</td>\n",
       "      <td>2001 - MANUTENÇÃO DAS ATIVIDADES DA CÂMARA MUN...</td>\n",
       "      <td>DISPENSADO/2024</td>\n",
       "      <td>VALOR QUE SE EMPENHA REFERENTE A DESPESA DE TR...</td>\n",
       "      <td>[[Descrição, Tipo, Quantidade, Valor unitário,...</td>\n",
       "      <td>2024-07-04</td>\n",
       "      <td>2024-07-04</td>\n",
       "      <td>0.0</td>\n",
       "      <td>1800.0</td>\n",
       "      <td>1800.00</td>\n",
       "      <td>1800.00</td>\n",
       "    </tr>\n",
       "  </tbody>\n",
       "</table>\n",
       "</div>"
      ],
      "text/plain": [
       "    Número        Data                                        Credor  \\\n",
       "0  8230001  23/08/2024         ***.040.305-** - EDSON GIL DOS SANTOS   \n",
       "1  8160001  16/08/2024   07166543000122 - CÂMARA MUNICIPAL DE PINHÃO   \n",
       "2  8080010  08/08/2024    ***.957.255-** - NEY PAULO ANDRADE ALMEIDA   \n",
       "3  7180001  18/07/2024  ***.384.615-** - RENOALDO COSTA SILVA JUNIOR   \n",
       "4  7040001  04/07/2024  ***.384.615-** - RENOALDO COSTA SILVA JUNIOR   \n",
       "\n",
       "  Alteração    Empenhado    Liquidado         Pago  Atualizado  \\\n",
       "0   R$ 0,00    R$ 300,00    R$ 300,00    R$ 300,00  23/08/2024   \n",
       "1   R$ 0,00  R$ 3.590,00    R$ 438,15    R$ 438,15  16/08/2024   \n",
       "2   R$ 0,00  R$ 1.800,00  R$ 1.800,00  R$ 1.800,00  08/08/2024   \n",
       "3   R$ 0,00  R$ 1.800,00  R$ 1.800,00  R$ 1.800,00  18/07/2024   \n",
       "4   R$ 0,00  R$ 1.800,00  R$ 1.800,00  R$ 1.800,00  04/07/2024   \n",
       "\n",
       "                                       link_Detalhes            Poder  \\\n",
       "0  https://portal.sitesagapesistemas.com.br/agape...  1 - LEGISLATIVO   \n",
       "1  https://portal.sitesagapesistemas.com.br/agape...  1 - LEGISLATIVO   \n",
       "2  https://portal.sitesagapesistemas.com.br/agape...  1 - LEGISLATIVO   \n",
       "3  https://portal.sitesagapesistemas.com.br/agape...  1 - LEGISLATIVO   \n",
       "4  https://portal.sitesagapesistemas.com.br/agape...  1 - LEGISLATIVO   \n",
       "\n",
       "             Função                                Elemento_de_Despesa  \\\n",
       "0  01 - LEGISLATIVA                       3390140000 - DIARIAS - CIVIL   \n",
       "1  01 - LEGISLATIVA  3190110000 - VENCIM.E VANTAGENS FIXAS-PESSOAL ...   \n",
       "2  01 - LEGISLATIVA                       3390140000 - DIARIAS - CIVIL   \n",
       "3  01 - LEGISLATIVA                       3390140000 - DIARIAS - CIVIL   \n",
       "4  01 - LEGISLATIVA                       3390140000 - DIARIAS - CIVIL   \n",
       "\n",
       "              Unid_Administradora               Subfunção  \\\n",
       "0  1 - CÂMARA MUNICIPAL DE PINHÃO  031 - ACAO LEGISLATIVA   \n",
       "1  1 - CÂMARA MUNICIPAL DE PINHÃO  031 - ACAO LEGISLATIVA   \n",
       "2  1 - CÂMARA MUNICIPAL DE PINHÃO  031 - ACAO LEGISLATIVA   \n",
       "3  1 - CÂMARA MUNICIPAL DE PINHÃO  031 - ACAO LEGISLATIVA   \n",
       "4  1 - CÂMARA MUNICIPAL DE PINHÃO  031 - ACAO LEGISLATIVA   \n",
       "\n",
       "                                    Subelemento  \\\n",
       "0                01 - DIARIAS  DENTRO DO ESTADO   \n",
       "1  10 - ADICIONAL DE DESENPENHO/ABONO DE FERIAS   \n",
       "2                02 - DIARIAS PARA OUTRO ESTADO   \n",
       "3                02 - DIARIAS PARA OUTRO ESTADO   \n",
       "4                02 - DIARIAS PARA OUTRO ESTADO   \n",
       "\n",
       "                    Unid_Orçamentária  \\\n",
       "0  10100 - CÂMARA MUNICIPAL DE PINHÃO   \n",
       "1  10100 - CÂMARA MUNICIPAL DE PINHÃO   \n",
       "2  10100 - CÂMARA MUNICIPAL DE PINHÃO   \n",
       "3  10100 - CÂMARA MUNICIPAL DE PINHÃO   \n",
       "4  10100 - CÂMARA MUNICIPAL DE PINHÃO   \n",
       "\n",
       "                                 Fonte_de_recurso  \\\n",
       "0  15000000 - Recursos não Vinculados de Impostos   \n",
       "1  15000000 - Recursos não Vinculados de Impostos   \n",
       "2  15000000 - Recursos não Vinculados de Impostos   \n",
       "3  15000000 - Recursos não Vinculados de Impostos   \n",
       "4  15000000 - Recursos não Vinculados de Impostos   \n",
       "\n",
       "                                   Projeto_Atividade Categorias_de_base_legal  \\\n",
       "0  2001 - MANUTENÇÃO DAS ATIVIDADES DA CÂMARA MUN...          DISPENSADO/2024   \n",
       "1  2001 - MANUTENÇÃO DAS ATIVIDADES DA CÂMARA MUN...          DISPENSADO/2024   \n",
       "2  2001 - MANUTENÇÃO DAS ATIVIDADES DA CÂMARA MUN...          DISPENSADO/2024   \n",
       "3  2001 - MANUTENÇÃO DAS ATIVIDADES DA CÂMARA MUN...          DISPENSADO/2024   \n",
       "4  2001 - MANUTENÇÃO DAS ATIVIDADES DA CÂMARA MUN...          DISPENSADO/2024   \n",
       "\n",
       "                                           Histórico  \\\n",
       "0  VALOR QUE SE EMPENHA REFERENTE A DESPESA DE UM...   \n",
       "1  VALOR QUE SE EMPENHA REFERENTE AO COMPLEMENTO ...   \n",
       "2  VALOR QUE SE EMPENHA REFERENTE A DESPESA DE TR...   \n",
       "3  VALOR QUE SE EMPENHA REFERENTE A DESPESA DE TR...   \n",
       "4  VALOR QUE SE EMPENHA REFERENTE A DESPESA DE TR...   \n",
       "\n",
       "                                               Itens Data_datetime  \\\n",
       "0  [[Descrição, Tipo, Quantidade, Valor unitário,...    2024-08-23   \n",
       "1  [[Descrição, Tipo, Quantidade, Valor unitário,...    2024-08-16   \n",
       "2  [[Descrição, Tipo, Quantidade, Valor unitário,...    2024-08-08   \n",
       "3  [[Descrição, Tipo, Quantidade, Valor unitário,...    2024-07-18   \n",
       "4  [[Descrição, Tipo, Quantidade, Valor unitário,...    2024-07-04   \n",
       "\n",
       "  Atualizado_datetime  Alteração_float  Empenhado_float  Liquidado_float  \\\n",
       "0          2024-08-23              0.0            300.0           300.00   \n",
       "1          2024-08-16              0.0           3590.0           438.15   \n",
       "2          2024-08-08              0.0           1800.0          1800.00   \n",
       "3          2024-07-18              0.0           1800.0          1800.00   \n",
       "4          2024-07-04              0.0           1800.0          1800.00   \n",
       "\n",
       "   Pago_float  \n",
       "0      300.00  \n",
       "1      438.15  \n",
       "2     1800.00  \n",
       "3     1800.00  \n",
       "4     1800.00  "
      ]
     },
     "execution_count": 45,
     "metadata": {},
     "output_type": "execute_result"
    }
   ],
   "source": [
    "# Copy the DataFrame\n",
    "df = df_empenhos.copy()\n",
    "\n",
    "# Remove the 'id' column\n",
    "df = df.drop(['id'], axis=1)\n",
    "\n",
    "# Convert date columns to datetime\n",
    "# df['Data_datetime'] = pd.to_datetime(df['Data'], errors='coerce')\n",
    "# df['Atualizado_datetime'] = pd.to_datetime(df['Atualizado'], errors='coerce')\n",
    "df = converte_data_datetime(df, ['Data', 'Atualizado'])\n",
    "\n",
    "# Convert multiple currency columns to float\n",
    "df = converte_real_float(df, ['Alteração', 'Empenhado', 'Liquidado', 'Pago'])\n",
    "\n",
    "\n",
    "# Display the first few rows\n",
    "df.head()\n"
   ]
  },
  {
   "cell_type": "code",
   "execution_count": 49,
   "metadata": {},
   "outputs": [
    {
     "data": {
      "text/plain": [
       "Index(['Número', 'Data', 'Credor', 'Alteração', 'Empenhado', 'Liquidado',\n",
       "       'Pago', 'Atualizado', 'link_Detalhes', 'Poder', 'Função',\n",
       "       'Elemento_de_Despesa', 'Unid_Administradora', 'Subfunção',\n",
       "       'Subelemento', 'Unid_Orçamentária', 'Fonte_de_recurso',\n",
       "       'Projeto_Atividade', 'Categorias_de_base_legal', 'Histórico', 'Itens',\n",
       "       'Data_datetime', 'Atualizado_datetime', 'Alteração_float',\n",
       "       'Empenhado_float', 'Liquidado_float', 'Pago_float'],\n",
       "      dtype='object')"
      ]
     },
     "execution_count": 49,
     "metadata": {},
     "output_type": "execute_result"
    }
   ],
   "source": [
    "df.columns"
   ]
  },
  {
   "cell_type": "code",
   "execution_count": 63,
   "metadata": {},
   "outputs": [
    {
     "data": {
      "text/plain": [
       "(2021, 2024)"
      ]
     },
     "execution_count": 63,
     "metadata": {},
     "output_type": "execute_result"
    }
   ],
   "source": [
    "min_year = df['Data_datetime'].dt.year.min()\n",
    "max_year = df['Data_datetime'].dt.year.max()\n",
    "min_year, max_year"
   ]
  },
  {
   "cell_type": "code",
   "execution_count": 51,
   "metadata": {},
   "outputs": [
    {
     "data": {
      "text/plain": [
       "Data_datetime\n",
       "1     81\n",
       "2     82\n",
       "3     59\n",
       "4     34\n",
       "5     46\n",
       "6     29\n",
       "7     28\n",
       "8     43\n",
       "9      6\n",
       "10    26\n",
       "11    21\n",
       "12    33\n",
       "Name: count, dtype: int64"
      ]
     },
     "execution_count": 51,
     "metadata": {},
     "output_type": "execute_result"
    }
   ],
   "source": [
    "# Volume de empenhos por mês\n",
    "df['Data_datetime'].dt.month.value_counts().sort_index()"
   ]
  },
  {
   "cell_type": "code",
   "execution_count": 64,
   "metadata": {},
   "outputs": [
    {
     "data": {
      "application/vnd.plotly.v1+json": {
       "config": {
        "plotlyServerURL": "https://plot.ly"
       },
       "data": [
        {
         "alignmentgroup": "True",
         "cliponaxis": false,
         "hovertemplate": "Mês=%{x}<br>Quantidade=%{text}<extra></extra>",
         "legendgroup": "",
         "marker": {
          "color": "#636efa",
          "pattern": {
           "shape": ""
          }
         },
         "name": "",
         "offsetgroup": "",
         "orientation": "v",
         "showlegend": false,
         "text": [
          81,
          82,
          59,
          34,
          46,
          29,
          28,
          43,
          6,
          26,
          21,
          33
         ],
         "textposition": "outside",
         "type": "bar",
         "x": [
          "Jan",
          "Fev",
          "Mar",
          "Abr",
          "Mai",
          "Jun",
          "Jul",
          "Ago",
          "Set",
          "Out",
          "Nov",
          "Dez"
         ],
         "xaxis": "x",
         "y": [
          81,
          82,
          59,
          34,
          46,
          29,
          28,
          43,
          6,
          26,
          21,
          33
         ],
         "yaxis": "y"
        }
       ],
       "layout": {
        "barmode": "relative",
        "legend": {
         "tracegroupgap": 0
        },
        "margin": {
         "b": 80,
         "t": 40
        },
        "template": {
         "data": {
          "bar": [
           {
            "error_x": {
             "color": "#2a3f5f"
            },
            "error_y": {
             "color": "#2a3f5f"
            },
            "marker": {
             "line": {
              "color": "#E5ECF6",
              "width": 0.5
             },
             "pattern": {
              "fillmode": "overlay",
              "size": 10,
              "solidity": 0.2
             }
            },
            "type": "bar"
           }
          ],
          "barpolar": [
           {
            "marker": {
             "line": {
              "color": "#E5ECF6",
              "width": 0.5
             },
             "pattern": {
              "fillmode": "overlay",
              "size": 10,
              "solidity": 0.2
             }
            },
            "type": "barpolar"
           }
          ],
          "carpet": [
           {
            "aaxis": {
             "endlinecolor": "#2a3f5f",
             "gridcolor": "white",
             "linecolor": "white",
             "minorgridcolor": "white",
             "startlinecolor": "#2a3f5f"
            },
            "baxis": {
             "endlinecolor": "#2a3f5f",
             "gridcolor": "white",
             "linecolor": "white",
             "minorgridcolor": "white",
             "startlinecolor": "#2a3f5f"
            },
            "type": "carpet"
           }
          ],
          "choropleth": [
           {
            "colorbar": {
             "outlinewidth": 0,
             "ticks": ""
            },
            "type": "choropleth"
           }
          ],
          "contour": [
           {
            "colorbar": {
             "outlinewidth": 0,
             "ticks": ""
            },
            "colorscale": [
             [
              0,
              "#0d0887"
             ],
             [
              0.1111111111111111,
              "#46039f"
             ],
             [
              0.2222222222222222,
              "#7201a8"
             ],
             [
              0.3333333333333333,
              "#9c179e"
             ],
             [
              0.4444444444444444,
              "#bd3786"
             ],
             [
              0.5555555555555556,
              "#d8576b"
             ],
             [
              0.6666666666666666,
              "#ed7953"
             ],
             [
              0.7777777777777778,
              "#fb9f3a"
             ],
             [
              0.8888888888888888,
              "#fdca26"
             ],
             [
              1,
              "#f0f921"
             ]
            ],
            "type": "contour"
           }
          ],
          "contourcarpet": [
           {
            "colorbar": {
             "outlinewidth": 0,
             "ticks": ""
            },
            "type": "contourcarpet"
           }
          ],
          "heatmap": [
           {
            "colorbar": {
             "outlinewidth": 0,
             "ticks": ""
            },
            "colorscale": [
             [
              0,
              "#0d0887"
             ],
             [
              0.1111111111111111,
              "#46039f"
             ],
             [
              0.2222222222222222,
              "#7201a8"
             ],
             [
              0.3333333333333333,
              "#9c179e"
             ],
             [
              0.4444444444444444,
              "#bd3786"
             ],
             [
              0.5555555555555556,
              "#d8576b"
             ],
             [
              0.6666666666666666,
              "#ed7953"
             ],
             [
              0.7777777777777778,
              "#fb9f3a"
             ],
             [
              0.8888888888888888,
              "#fdca26"
             ],
             [
              1,
              "#f0f921"
             ]
            ],
            "type": "heatmap"
           }
          ],
          "heatmapgl": [
           {
            "colorbar": {
             "outlinewidth": 0,
             "ticks": ""
            },
            "colorscale": [
             [
              0,
              "#0d0887"
             ],
             [
              0.1111111111111111,
              "#46039f"
             ],
             [
              0.2222222222222222,
              "#7201a8"
             ],
             [
              0.3333333333333333,
              "#9c179e"
             ],
             [
              0.4444444444444444,
              "#bd3786"
             ],
             [
              0.5555555555555556,
              "#d8576b"
             ],
             [
              0.6666666666666666,
              "#ed7953"
             ],
             [
              0.7777777777777778,
              "#fb9f3a"
             ],
             [
              0.8888888888888888,
              "#fdca26"
             ],
             [
              1,
              "#f0f921"
             ]
            ],
            "type": "heatmapgl"
           }
          ],
          "histogram": [
           {
            "marker": {
             "pattern": {
              "fillmode": "overlay",
              "size": 10,
              "solidity": 0.2
             }
            },
            "type": "histogram"
           }
          ],
          "histogram2d": [
           {
            "colorbar": {
             "outlinewidth": 0,
             "ticks": ""
            },
            "colorscale": [
             [
              0,
              "#0d0887"
             ],
             [
              0.1111111111111111,
              "#46039f"
             ],
             [
              0.2222222222222222,
              "#7201a8"
             ],
             [
              0.3333333333333333,
              "#9c179e"
             ],
             [
              0.4444444444444444,
              "#bd3786"
             ],
             [
              0.5555555555555556,
              "#d8576b"
             ],
             [
              0.6666666666666666,
              "#ed7953"
             ],
             [
              0.7777777777777778,
              "#fb9f3a"
             ],
             [
              0.8888888888888888,
              "#fdca26"
             ],
             [
              1,
              "#f0f921"
             ]
            ],
            "type": "histogram2d"
           }
          ],
          "histogram2dcontour": [
           {
            "colorbar": {
             "outlinewidth": 0,
             "ticks": ""
            },
            "colorscale": [
             [
              0,
              "#0d0887"
             ],
             [
              0.1111111111111111,
              "#46039f"
             ],
             [
              0.2222222222222222,
              "#7201a8"
             ],
             [
              0.3333333333333333,
              "#9c179e"
             ],
             [
              0.4444444444444444,
              "#bd3786"
             ],
             [
              0.5555555555555556,
              "#d8576b"
             ],
             [
              0.6666666666666666,
              "#ed7953"
             ],
             [
              0.7777777777777778,
              "#fb9f3a"
             ],
             [
              0.8888888888888888,
              "#fdca26"
             ],
             [
              1,
              "#f0f921"
             ]
            ],
            "type": "histogram2dcontour"
           }
          ],
          "mesh3d": [
           {
            "colorbar": {
             "outlinewidth": 0,
             "ticks": ""
            },
            "type": "mesh3d"
           }
          ],
          "parcoords": [
           {
            "line": {
             "colorbar": {
              "outlinewidth": 0,
              "ticks": ""
             }
            },
            "type": "parcoords"
           }
          ],
          "pie": [
           {
            "automargin": true,
            "type": "pie"
           }
          ],
          "scatter": [
           {
            "fillpattern": {
             "fillmode": "overlay",
             "size": 10,
             "solidity": 0.2
            },
            "type": "scatter"
           }
          ],
          "scatter3d": [
           {
            "line": {
             "colorbar": {
              "outlinewidth": 0,
              "ticks": ""
             }
            },
            "marker": {
             "colorbar": {
              "outlinewidth": 0,
              "ticks": ""
             }
            },
            "type": "scatter3d"
           }
          ],
          "scattercarpet": [
           {
            "marker": {
             "colorbar": {
              "outlinewidth": 0,
              "ticks": ""
             }
            },
            "type": "scattercarpet"
           }
          ],
          "scattergeo": [
           {
            "marker": {
             "colorbar": {
              "outlinewidth": 0,
              "ticks": ""
             }
            },
            "type": "scattergeo"
           }
          ],
          "scattergl": [
           {
            "marker": {
             "colorbar": {
              "outlinewidth": 0,
              "ticks": ""
             }
            },
            "type": "scattergl"
           }
          ],
          "scattermapbox": [
           {
            "marker": {
             "colorbar": {
              "outlinewidth": 0,
              "ticks": ""
             }
            },
            "type": "scattermapbox"
           }
          ],
          "scatterpolar": [
           {
            "marker": {
             "colorbar": {
              "outlinewidth": 0,
              "ticks": ""
             }
            },
            "type": "scatterpolar"
           }
          ],
          "scatterpolargl": [
           {
            "marker": {
             "colorbar": {
              "outlinewidth": 0,
              "ticks": ""
             }
            },
            "type": "scatterpolargl"
           }
          ],
          "scatterternary": [
           {
            "marker": {
             "colorbar": {
              "outlinewidth": 0,
              "ticks": ""
             }
            },
            "type": "scatterternary"
           }
          ],
          "surface": [
           {
            "colorbar": {
             "outlinewidth": 0,
             "ticks": ""
            },
            "colorscale": [
             [
              0,
              "#0d0887"
             ],
             [
              0.1111111111111111,
              "#46039f"
             ],
             [
              0.2222222222222222,
              "#7201a8"
             ],
             [
              0.3333333333333333,
              "#9c179e"
             ],
             [
              0.4444444444444444,
              "#bd3786"
             ],
             [
              0.5555555555555556,
              "#d8576b"
             ],
             [
              0.6666666666666666,
              "#ed7953"
             ],
             [
              0.7777777777777778,
              "#fb9f3a"
             ],
             [
              0.8888888888888888,
              "#fdca26"
             ],
             [
              1,
              "#f0f921"
             ]
            ],
            "type": "surface"
           }
          ],
          "table": [
           {
            "cells": {
             "fill": {
              "color": "#EBF0F8"
             },
             "line": {
              "color": "white"
             }
            },
            "header": {
             "fill": {
              "color": "#C8D4E3"
             },
             "line": {
              "color": "white"
             }
            },
            "type": "table"
           }
          ]
         },
         "layout": {
          "annotationdefaults": {
           "arrowcolor": "#2a3f5f",
           "arrowhead": 0,
           "arrowwidth": 1
          },
          "autotypenumbers": "strict",
          "coloraxis": {
           "colorbar": {
            "outlinewidth": 0,
            "ticks": ""
           }
          },
          "colorscale": {
           "diverging": [
            [
             0,
             "#8e0152"
            ],
            [
             0.1,
             "#c51b7d"
            ],
            [
             0.2,
             "#de77ae"
            ],
            [
             0.3,
             "#f1b6da"
            ],
            [
             0.4,
             "#fde0ef"
            ],
            [
             0.5,
             "#f7f7f7"
            ],
            [
             0.6,
             "#e6f5d0"
            ],
            [
             0.7,
             "#b8e186"
            ],
            [
             0.8,
             "#7fbc41"
            ],
            [
             0.9,
             "#4d9221"
            ],
            [
             1,
             "#276419"
            ]
           ],
           "sequential": [
            [
             0,
             "#0d0887"
            ],
            [
             0.1111111111111111,
             "#46039f"
            ],
            [
             0.2222222222222222,
             "#7201a8"
            ],
            [
             0.3333333333333333,
             "#9c179e"
            ],
            [
             0.4444444444444444,
             "#bd3786"
            ],
            [
             0.5555555555555556,
             "#d8576b"
            ],
            [
             0.6666666666666666,
             "#ed7953"
            ],
            [
             0.7777777777777778,
             "#fb9f3a"
            ],
            [
             0.8888888888888888,
             "#fdca26"
            ],
            [
             1,
             "#f0f921"
            ]
           ],
           "sequentialminus": [
            [
             0,
             "#0d0887"
            ],
            [
             0.1111111111111111,
             "#46039f"
            ],
            [
             0.2222222222222222,
             "#7201a8"
            ],
            [
             0.3333333333333333,
             "#9c179e"
            ],
            [
             0.4444444444444444,
             "#bd3786"
            ],
            [
             0.5555555555555556,
             "#d8576b"
            ],
            [
             0.6666666666666666,
             "#ed7953"
            ],
            [
             0.7777777777777778,
             "#fb9f3a"
            ],
            [
             0.8888888888888888,
             "#fdca26"
            ],
            [
             1,
             "#f0f921"
            ]
           ]
          },
          "colorway": [
           "#636efa",
           "#EF553B",
           "#00cc96",
           "#ab63fa",
           "#FFA15A",
           "#19d3f3",
           "#FF6692",
           "#B6E880",
           "#FF97FF",
           "#FECB52"
          ],
          "font": {
           "color": "#2a3f5f"
          },
          "geo": {
           "bgcolor": "white",
           "lakecolor": "white",
           "landcolor": "#E5ECF6",
           "showlakes": true,
           "showland": true,
           "subunitcolor": "white"
          },
          "hoverlabel": {
           "align": "left"
          },
          "hovermode": "closest",
          "mapbox": {
           "style": "light"
          },
          "paper_bgcolor": "white",
          "plot_bgcolor": "#E5ECF6",
          "polar": {
           "angularaxis": {
            "gridcolor": "white",
            "linecolor": "white",
            "ticks": ""
           },
           "bgcolor": "#E5ECF6",
           "radialaxis": {
            "gridcolor": "white",
            "linecolor": "white",
            "ticks": ""
           }
          },
          "scene": {
           "xaxis": {
            "backgroundcolor": "#E5ECF6",
            "gridcolor": "white",
            "gridwidth": 2,
            "linecolor": "white",
            "showbackground": true,
            "ticks": "",
            "zerolinecolor": "white"
           },
           "yaxis": {
            "backgroundcolor": "#E5ECF6",
            "gridcolor": "white",
            "gridwidth": 2,
            "linecolor": "white",
            "showbackground": true,
            "ticks": "",
            "zerolinecolor": "white"
           },
           "zaxis": {
            "backgroundcolor": "#E5ECF6",
            "gridcolor": "white",
            "gridwidth": 2,
            "linecolor": "white",
            "showbackground": true,
            "ticks": "",
            "zerolinecolor": "white"
           }
          },
          "shapedefaults": {
           "line": {
            "color": "#2a3f5f"
           }
          },
          "ternary": {
           "aaxis": {
            "gridcolor": "white",
            "linecolor": "white",
            "ticks": ""
           },
           "baxis": {
            "gridcolor": "white",
            "linecolor": "white",
            "ticks": ""
           },
           "bgcolor": "#E5ECF6",
           "caxis": {
            "gridcolor": "white",
            "linecolor": "white",
            "ticks": ""
           }
          },
          "title": {
           "x": 0.05
          },
          "xaxis": {
           "automargin": true,
           "gridcolor": "white",
           "linecolor": "white",
           "ticks": "",
           "title": {
            "standoff": 15
           },
           "zerolinecolor": "white",
           "zerolinewidth": 2
          },
          "yaxis": {
           "automargin": true,
           "gridcolor": "white",
           "linecolor": "white",
           "ticks": "",
           "title": {
            "standoff": 15
           },
           "zerolinecolor": "white",
           "zerolinewidth": 2
          }
         }
        },
        "title": {
         "text": "Volume de Empenhos por Mês (2021~2024)"
        },
        "xaxis": {
         "anchor": "y",
         "domain": [
          0,
          1
         ],
         "tickangle": -45,
         "title": {
          "text": "Mês"
         }
        },
        "yaxis": {
         "anchor": "x",
         "domain": [
          0,
          1
         ],
         "title": {
          "text": "Quantidade"
         }
        }
       }
      },
      "text/html": [
       "<div>                            <div id=\"a5dc1000-ad39-4043-93d8-0f55102607fc\" class=\"plotly-graph-div\" style=\"height:525px; width:100%;\"></div>            <script type=\"text/javascript\">                require([\"plotly\"], function(Plotly) {                    window.PLOTLYENV=window.PLOTLYENV || {};                                    if (document.getElementById(\"a5dc1000-ad39-4043-93d8-0f55102607fc\")) {                    Plotly.newPlot(                        \"a5dc1000-ad39-4043-93d8-0f55102607fc\",                        [{\"alignmentgroup\":\"True\",\"hovertemplate\":\"M\\u00eas=%{x}\\u003cbr\\u003eQuantidade=%{text}\\u003cextra\\u003e\\u003c\\u002fextra\\u003e\",\"legendgroup\":\"\",\"marker\":{\"color\":\"#636efa\",\"pattern\":{\"shape\":\"\"}},\"name\":\"\",\"offsetgroup\":\"\",\"orientation\":\"v\",\"showlegend\":false,\"text\":[81.0,82.0,59.0,34.0,46.0,29.0,28.0,43.0,6.0,26.0,21.0,33.0],\"textposition\":\"outside\",\"x\":[\"Jan\",\"Fev\",\"Mar\",\"Abr\",\"Mai\",\"Jun\",\"Jul\",\"Ago\",\"Set\",\"Out\",\"Nov\",\"Dez\"],\"xaxis\":\"x\",\"y\":[81,82,59,34,46,29,28,43,6,26,21,33],\"yaxis\":\"y\",\"type\":\"bar\",\"cliponaxis\":false}],                        {\"template\":{\"data\":{\"histogram2dcontour\":[{\"type\":\"histogram2dcontour\",\"colorbar\":{\"outlinewidth\":0,\"ticks\":\"\"},\"colorscale\":[[0.0,\"#0d0887\"],[0.1111111111111111,\"#46039f\"],[0.2222222222222222,\"#7201a8\"],[0.3333333333333333,\"#9c179e\"],[0.4444444444444444,\"#bd3786\"],[0.5555555555555556,\"#d8576b\"],[0.6666666666666666,\"#ed7953\"],[0.7777777777777778,\"#fb9f3a\"],[0.8888888888888888,\"#fdca26\"],[1.0,\"#f0f921\"]]}],\"choropleth\":[{\"type\":\"choropleth\",\"colorbar\":{\"outlinewidth\":0,\"ticks\":\"\"}}],\"histogram2d\":[{\"type\":\"histogram2d\",\"colorbar\":{\"outlinewidth\":0,\"ticks\":\"\"},\"colorscale\":[[0.0,\"#0d0887\"],[0.1111111111111111,\"#46039f\"],[0.2222222222222222,\"#7201a8\"],[0.3333333333333333,\"#9c179e\"],[0.4444444444444444,\"#bd3786\"],[0.5555555555555556,\"#d8576b\"],[0.6666666666666666,\"#ed7953\"],[0.7777777777777778,\"#fb9f3a\"],[0.8888888888888888,\"#fdca26\"],[1.0,\"#f0f921\"]]}],\"heatmap\":[{\"type\":\"heatmap\",\"colorbar\":{\"outlinewidth\":0,\"ticks\":\"\"},\"colorscale\":[[0.0,\"#0d0887\"],[0.1111111111111111,\"#46039f\"],[0.2222222222222222,\"#7201a8\"],[0.3333333333333333,\"#9c179e\"],[0.4444444444444444,\"#bd3786\"],[0.5555555555555556,\"#d8576b\"],[0.6666666666666666,\"#ed7953\"],[0.7777777777777778,\"#fb9f3a\"],[0.8888888888888888,\"#fdca26\"],[1.0,\"#f0f921\"]]}],\"heatmapgl\":[{\"type\":\"heatmapgl\",\"colorbar\":{\"outlinewidth\":0,\"ticks\":\"\"},\"colorscale\":[[0.0,\"#0d0887\"],[0.1111111111111111,\"#46039f\"],[0.2222222222222222,\"#7201a8\"],[0.3333333333333333,\"#9c179e\"],[0.4444444444444444,\"#bd3786\"],[0.5555555555555556,\"#d8576b\"],[0.6666666666666666,\"#ed7953\"],[0.7777777777777778,\"#fb9f3a\"],[0.8888888888888888,\"#fdca26\"],[1.0,\"#f0f921\"]]}],\"contourcarpet\":[{\"type\":\"contourcarpet\",\"colorbar\":{\"outlinewidth\":0,\"ticks\":\"\"}}],\"contour\":[{\"type\":\"contour\",\"colorbar\":{\"outlinewidth\":0,\"ticks\":\"\"},\"colorscale\":[[0.0,\"#0d0887\"],[0.1111111111111111,\"#46039f\"],[0.2222222222222222,\"#7201a8\"],[0.3333333333333333,\"#9c179e\"],[0.4444444444444444,\"#bd3786\"],[0.5555555555555556,\"#d8576b\"],[0.6666666666666666,\"#ed7953\"],[0.7777777777777778,\"#fb9f3a\"],[0.8888888888888888,\"#fdca26\"],[1.0,\"#f0f921\"]]}],\"surface\":[{\"type\":\"surface\",\"colorbar\":{\"outlinewidth\":0,\"ticks\":\"\"},\"colorscale\":[[0.0,\"#0d0887\"],[0.1111111111111111,\"#46039f\"],[0.2222222222222222,\"#7201a8\"],[0.3333333333333333,\"#9c179e\"],[0.4444444444444444,\"#bd3786\"],[0.5555555555555556,\"#d8576b\"],[0.6666666666666666,\"#ed7953\"],[0.7777777777777778,\"#fb9f3a\"],[0.8888888888888888,\"#fdca26\"],[1.0,\"#f0f921\"]]}],\"mesh3d\":[{\"type\":\"mesh3d\",\"colorbar\":{\"outlinewidth\":0,\"ticks\":\"\"}}],\"scatter\":[{\"fillpattern\":{\"fillmode\":\"overlay\",\"size\":10,\"solidity\":0.2},\"type\":\"scatter\"}],\"parcoords\":[{\"type\":\"parcoords\",\"line\":{\"colorbar\":{\"outlinewidth\":0,\"ticks\":\"\"}}}],\"scatterpolargl\":[{\"type\":\"scatterpolargl\",\"marker\":{\"colorbar\":{\"outlinewidth\":0,\"ticks\":\"\"}}}],\"bar\":[{\"error_x\":{\"color\":\"#2a3f5f\"},\"error_y\":{\"color\":\"#2a3f5f\"},\"marker\":{\"line\":{\"color\":\"#E5ECF6\",\"width\":0.5},\"pattern\":{\"fillmode\":\"overlay\",\"size\":10,\"solidity\":0.2}},\"type\":\"bar\"}],\"scattergeo\":[{\"type\":\"scattergeo\",\"marker\":{\"colorbar\":{\"outlinewidth\":0,\"ticks\":\"\"}}}],\"scatterpolar\":[{\"type\":\"scatterpolar\",\"marker\":{\"colorbar\":{\"outlinewidth\":0,\"ticks\":\"\"}}}],\"histogram\":[{\"marker\":{\"pattern\":{\"fillmode\":\"overlay\",\"size\":10,\"solidity\":0.2}},\"type\":\"histogram\"}],\"scattergl\":[{\"type\":\"scattergl\",\"marker\":{\"colorbar\":{\"outlinewidth\":0,\"ticks\":\"\"}}}],\"scatter3d\":[{\"type\":\"scatter3d\",\"line\":{\"colorbar\":{\"outlinewidth\":0,\"ticks\":\"\"}},\"marker\":{\"colorbar\":{\"outlinewidth\":0,\"ticks\":\"\"}}}],\"scattermapbox\":[{\"type\":\"scattermapbox\",\"marker\":{\"colorbar\":{\"outlinewidth\":0,\"ticks\":\"\"}}}],\"scatterternary\":[{\"type\":\"scatterternary\",\"marker\":{\"colorbar\":{\"outlinewidth\":0,\"ticks\":\"\"}}}],\"scattercarpet\":[{\"type\":\"scattercarpet\",\"marker\":{\"colorbar\":{\"outlinewidth\":0,\"ticks\":\"\"}}}],\"carpet\":[{\"aaxis\":{\"endlinecolor\":\"#2a3f5f\",\"gridcolor\":\"white\",\"linecolor\":\"white\",\"minorgridcolor\":\"white\",\"startlinecolor\":\"#2a3f5f\"},\"baxis\":{\"endlinecolor\":\"#2a3f5f\",\"gridcolor\":\"white\",\"linecolor\":\"white\",\"minorgridcolor\":\"white\",\"startlinecolor\":\"#2a3f5f\"},\"type\":\"carpet\"}],\"table\":[{\"cells\":{\"fill\":{\"color\":\"#EBF0F8\"},\"line\":{\"color\":\"white\"}},\"header\":{\"fill\":{\"color\":\"#C8D4E3\"},\"line\":{\"color\":\"white\"}},\"type\":\"table\"}],\"barpolar\":[{\"marker\":{\"line\":{\"color\":\"#E5ECF6\",\"width\":0.5},\"pattern\":{\"fillmode\":\"overlay\",\"size\":10,\"solidity\":0.2}},\"type\":\"barpolar\"}],\"pie\":[{\"automargin\":true,\"type\":\"pie\"}]},\"layout\":{\"autotypenumbers\":\"strict\",\"colorway\":[\"#636efa\",\"#EF553B\",\"#00cc96\",\"#ab63fa\",\"#FFA15A\",\"#19d3f3\",\"#FF6692\",\"#B6E880\",\"#FF97FF\",\"#FECB52\"],\"font\":{\"color\":\"#2a3f5f\"},\"hovermode\":\"closest\",\"hoverlabel\":{\"align\":\"left\"},\"paper_bgcolor\":\"white\",\"plot_bgcolor\":\"#E5ECF6\",\"polar\":{\"bgcolor\":\"#E5ECF6\",\"angularaxis\":{\"gridcolor\":\"white\",\"linecolor\":\"white\",\"ticks\":\"\"},\"radialaxis\":{\"gridcolor\":\"white\",\"linecolor\":\"white\",\"ticks\":\"\"}},\"ternary\":{\"bgcolor\":\"#E5ECF6\",\"aaxis\":{\"gridcolor\":\"white\",\"linecolor\":\"white\",\"ticks\":\"\"},\"baxis\":{\"gridcolor\":\"white\",\"linecolor\":\"white\",\"ticks\":\"\"},\"caxis\":{\"gridcolor\":\"white\",\"linecolor\":\"white\",\"ticks\":\"\"}},\"coloraxis\":{\"colorbar\":{\"outlinewidth\":0,\"ticks\":\"\"}},\"colorscale\":{\"sequential\":[[0.0,\"#0d0887\"],[0.1111111111111111,\"#46039f\"],[0.2222222222222222,\"#7201a8\"],[0.3333333333333333,\"#9c179e\"],[0.4444444444444444,\"#bd3786\"],[0.5555555555555556,\"#d8576b\"],[0.6666666666666666,\"#ed7953\"],[0.7777777777777778,\"#fb9f3a\"],[0.8888888888888888,\"#fdca26\"],[1.0,\"#f0f921\"]],\"sequentialminus\":[[0.0,\"#0d0887\"],[0.1111111111111111,\"#46039f\"],[0.2222222222222222,\"#7201a8\"],[0.3333333333333333,\"#9c179e\"],[0.4444444444444444,\"#bd3786\"],[0.5555555555555556,\"#d8576b\"],[0.6666666666666666,\"#ed7953\"],[0.7777777777777778,\"#fb9f3a\"],[0.8888888888888888,\"#fdca26\"],[1.0,\"#f0f921\"]],\"diverging\":[[0,\"#8e0152\"],[0.1,\"#c51b7d\"],[0.2,\"#de77ae\"],[0.3,\"#f1b6da\"],[0.4,\"#fde0ef\"],[0.5,\"#f7f7f7\"],[0.6,\"#e6f5d0\"],[0.7,\"#b8e186\"],[0.8,\"#7fbc41\"],[0.9,\"#4d9221\"],[1,\"#276419\"]]},\"xaxis\":{\"gridcolor\":\"white\",\"linecolor\":\"white\",\"ticks\":\"\",\"title\":{\"standoff\":15},\"zerolinecolor\":\"white\",\"automargin\":true,\"zerolinewidth\":2},\"yaxis\":{\"gridcolor\":\"white\",\"linecolor\":\"white\",\"ticks\":\"\",\"title\":{\"standoff\":15},\"zerolinecolor\":\"white\",\"automargin\":true,\"zerolinewidth\":2},\"scene\":{\"xaxis\":{\"backgroundcolor\":\"#E5ECF6\",\"gridcolor\":\"white\",\"linecolor\":\"white\",\"showbackground\":true,\"ticks\":\"\",\"zerolinecolor\":\"white\",\"gridwidth\":2},\"yaxis\":{\"backgroundcolor\":\"#E5ECF6\",\"gridcolor\":\"white\",\"linecolor\":\"white\",\"showbackground\":true,\"ticks\":\"\",\"zerolinecolor\":\"white\",\"gridwidth\":2},\"zaxis\":{\"backgroundcolor\":\"#E5ECF6\",\"gridcolor\":\"white\",\"linecolor\":\"white\",\"showbackground\":true,\"ticks\":\"\",\"zerolinecolor\":\"white\",\"gridwidth\":2}},\"shapedefaults\":{\"line\":{\"color\":\"#2a3f5f\"}},\"annotationdefaults\":{\"arrowcolor\":\"#2a3f5f\",\"arrowhead\":0,\"arrowwidth\":1},\"geo\":{\"bgcolor\":\"white\",\"landcolor\":\"#E5ECF6\",\"subunitcolor\":\"white\",\"showland\":true,\"showlakes\":true,\"lakecolor\":\"white\"},\"title\":{\"x\":0.05},\"mapbox\":{\"style\":\"light\"}}},\"xaxis\":{\"anchor\":\"y\",\"domain\":[0.0,1.0],\"title\":{\"text\":\"M\\u00eas\"},\"tickangle\":-45},\"yaxis\":{\"anchor\":\"x\",\"domain\":[0.0,1.0],\"title\":{\"text\":\"Quantidade\"}},\"legend\":{\"tracegroupgap\":0},\"title\":{\"text\":\"Volume de Empenhos por M\\u00eas (2021~2024)\"},\"barmode\":\"relative\",\"margin\":{\"t\":40,\"b\":80}},                        {\"responsive\": true}                    ).then(function(){\n",
       "                            \n",
       "var gd = document.getElementById('a5dc1000-ad39-4043-93d8-0f55102607fc');\n",
       "var x = new MutationObserver(function (mutations, observer) {{\n",
       "        var display = window.getComputedStyle(gd).display;\n",
       "        if (!display || display === 'none') {{\n",
       "            console.log([gd, 'removed!']);\n",
       "            Plotly.purge(gd);\n",
       "            observer.disconnect();\n",
       "        }}\n",
       "}});\n",
       "\n",
       "// Listen for the removal of the full notebook cells\n",
       "var notebookContainer = gd.closest('#notebook-container');\n",
       "if (notebookContainer) {{\n",
       "    x.observe(notebookContainer, {childList: true});\n",
       "}}\n",
       "\n",
       "// Listen for the clearing of the current output cell\n",
       "var outputEl = gd.closest('.output');\n",
       "if (outputEl) {{\n",
       "    x.observe(outputEl, {childList: true});\n",
       "}}\n",
       "\n",
       "                        })                };                });            </script>        </div>"
      ]
     },
     "metadata": {},
     "output_type": "display_data"
    }
   ],
   "source": [
    "import pandas as pd\n",
    "import plotly.express as px\n",
    "\n",
    "# Sample DataFrame (replace with your real data)\n",
    "# df = pd.read_csv('your_data.csv')  # Load your dataset if needed\n",
    "\n",
    "# Ensure 'Data_datetime' column is in datetime format\n",
    "df['Data_datetime'] = pd.to_datetime(df['Data_datetime'])\n",
    "\n",
    "# Group by month and count the number of occurrences\n",
    "monthly_counts = df['Data_datetime'].dt.month.value_counts().sort_index()\n",
    "\n",
    "# Convert to a DataFrame for easy plotting\n",
    "monthly_df = monthly_counts.reset_index()\n",
    "monthly_df.columns = ['Month', 'Count']\n",
    "\n",
    "# Mapeando os números dos meses para abreviações\n",
    "month_names = ['Jan', 'Fev', 'Mar', 'Abr', 'Mai', 'Jun', \n",
    "               'Jul', 'Ago', 'Set', 'Out', 'Nov', 'Dez']\n",
    "monthly_df['Month'] = monthly_df['Month'].apply(lambda x: month_names[x - 1])\n",
    "\n",
    "# Criar o gráfico de barras com Plotly\n",
    "fig = px.bar(\n",
    "    monthly_df, \n",
    "    x='Month', \n",
    "    y='Count', \n",
    "    title=f'Volume de Empenhos por Mês ({min_year}~{max_year})', \n",
    "    labels={'Month': 'Mês', 'Count': 'Quantidade'},\n",
    "    text='Count'  # Exibir os valores nas barras\n",
    ")\n",
    "\n",
    "# Ajustar layout para melhor legibilidade\n",
    "fig.update_traces(\n",
    "    textposition='outside',  # Move o texto para fora da barra\n",
    "    cliponaxis=False  # Permite que o texto apareça mesmo em barras pequenas\n",
    ")\n",
    "\n",
    "# Adicionar margem no layout para acomodar os textos\n",
    "fig.update_layout(\n",
    "    xaxis_tickangle=-45,  # Inclina os rótulos do eixo X\n",
    "    margin=dict(t=40, b=80)  # Ajusta as margens superior e inferior\n",
    ")\n",
    "\n",
    "# Display the chart\n",
    "fig.show()\n"
   ]
  },
  {
   "cell_type": "code",
   "execution_count": 53,
   "metadata": {},
   "outputs": [
    {
     "name": "stdout",
     "output_type": "stream",
     "text": [
      "Data_datetime\n",
      "2021-01     894430.00\n",
      "2021-02      47375.00\n",
      "2021-04        996.00\n",
      "2021-05       2787.40\n",
      "2021-06       1760.00\n",
      "2021-07       2160.00\n",
      "2021-10        470.00\n",
      "2021-11      11437.40\n",
      "2021-12       7438.97\n",
      "2022-01     975638.00\n",
      "2022-02      31740.00\n",
      "2022-03       4080.00\n",
      "2022-04      13500.00\n",
      "2022-05      29216.10\n",
      "2022-06      31563.00\n",
      "2022-07       3067.53\n",
      "2022-08      24122.70\n",
      "2022-09        440.00\n",
      "2022-10       1883.21\n",
      "2022-11       9307.52\n",
      "2022-12      23142.05\n",
      "2023-01     995796.00\n",
      "2023-02     135407.87\n",
      "2023-03      41482.70\n",
      "2023-04      13245.60\n",
      "2023-05      33752.38\n",
      "2023-06      20640.00\n",
      "2023-07       3720.00\n",
      "2023-08      39700.00\n",
      "2023-09      17108.60\n",
      "2023-10      37100.00\n",
      "2023-11       8742.00\n",
      "2023-12      62986.51\n",
      "2024-01    1199250.00\n",
      "2024-02     181946.72\n",
      "2024-03       9593.85\n",
      "2024-04      24700.00\n",
      "2024-05        600.00\n",
      "2024-06      10616.00\n",
      "2024-07       3600.00\n",
      "2024-08      36290.00\n",
      "2024-10       9150.00\n",
      "Name: Empenhado_float, dtype: float64\n"
     ]
    }
   ],
   "source": [
    "# Soma de Balores de Empneho por mês\n",
    "# Sum values by month\n",
    "total_empenhado_por_mes = df.groupby(df['Data_datetime'].dt.to_period('M'))['Empenhado_float'].sum()\n",
    "\n",
    "# Convert index to string (e.g., \"2021-01\")\n",
    "total_empenhado_por_mes.index = total_empenhado_por_mes.index.strftime('%Y-%m')\n",
    "\n",
    "# Display the result\n",
    "print(total_empenhado_por_mes)"
   ]
  },
  {
   "cell_type": "code",
   "execution_count": 55,
   "metadata": {},
   "outputs": [
    {
     "name": "stdout",
     "output_type": "stream",
     "text": [
      "Data_datetime\n",
      "2021     968854.77\n",
      "2022    1147700.11\n",
      "2023    1409681.66\n",
      "2024    1475746.57\n",
      "Name: Empenhado_float, dtype: float64\n"
     ]
    }
   ],
   "source": [
    "# Soma de Balores de Empneho por mês\n",
    "# Sum values by month\n",
    "total_empenhado_por_mes = df.groupby(df['Data_datetime'].dt.to_period('Y'))['Empenhado_float'].sum()\n",
    "\n",
    "# Convert index to string (e.g., \"2021-01\")\n",
    "total_empenhado_por_mes.index = total_empenhado_por_mes.index.strftime('%Y')\n",
    "\n",
    "# Display the result\n",
    "print(total_empenhado_por_mes)"
   ]
  },
  {
   "cell_type": "code",
   "execution_count": 56,
   "metadata": {},
   "outputs": [
    {
     "name": "stdout",
     "output_type": "stream",
     "text": [
      "Year_Quadrimester\n",
      "2021-Q1     942801.00\n",
      "2021-Q2       6707.40\n",
      "2021-Q3      19346.37\n",
      "2022-Q1    1024958.00\n",
      "2022-Q2      87969.33\n",
      "2022-Q3      34772.78\n",
      "2023-Q1    1185932.17\n",
      "2023-Q2      97812.38\n",
      "2023-Q3     125937.11\n",
      "2024-Q1    1415490.57\n",
      "2024-Q2      51106.00\n",
      "2024-Q3       9150.00\n",
      "Name: Empenhado_float, dtype: float64\n"
     ]
    }
   ],
   "source": [
    "# SOMA DE EMPEHNOS POR QUADRIMESTRE\n",
    "# Create a new column for the quadrimester (1, 2, or 3 based on the month)\n",
    "df['Quadrimester'] = (df['Data_datetime'].dt.month - 1) // 4 + 1\n",
    "\n",
    "# Create a new column for year-quadrimester (e.g., \"2021-Q1\", \"2021-Q2\")\n",
    "df['Year_Quadrimester'] = df['Data_datetime'].dt.year.astype(str) + '-Q' + df['Quadrimester'].astype(str)\n",
    "\n",
    "# Group by 'Year_Quadrimester' and sum the values\n",
    "total_empenhado_por_quadrimestre = df.groupby('Year_Quadrimester')['Empenhado_float'].sum()\n",
    "\n",
    "# Display the result\n",
    "print(total_empenhado_por_quadrimestre)\n"
   ]
  },
  {
   "cell_type": "code",
   "execution_count": null,
   "metadata": {},
   "outputs": [],
   "source": [
    "# SOMA DE EMPEHNOS POR QUADRIMESTRE\n",
    "# Create a new column for the quadrimester (1, 2, or 3 based on the month)\n",
    "df['Quadrimester'] = (df['Data_datetime'].dt.month - 1) // 4 + 1\n",
    "\n",
    "# Create a new column for year-quadrimester (e.g., \"2021-Q1\", \"2021-Q2\")\n",
    "df['Year_Quadrimester'] = df['Data_datetime'].dt.year.astype(str) + '-Q' + df['Quadrimester'].astype(str)\n",
    "\n",
    "# Group by 'Year_Quadrimester' and sum the values\n",
    "total_empenhado_por_quadrimestre = df.groupby('Year_Quadrimester')['Empenhado_float'].sum()\n",
    "\n",
    "# Display the result\n",
    "print(total_empenhado_por_quadrimestre)\n"
   ]
  },
  {
   "cell_type": "code",
   "execution_count": 57,
   "metadata": {},
   "outputs": [
    {
     "name": "stdout",
     "output_type": "stream",
     "text": [
      "Year_Trimester\n",
      "2021-T1     941805.00\n",
      "2021-T2       5543.40\n",
      "2021-T3       2160.00\n",
      "2021-T4      19346.37\n",
      "2022-T1    1011458.00\n",
      "2022-T2      74279.10\n",
      "2022-T3      27630.23\n",
      "2022-T4      34332.78\n",
      "2023-T1    1172686.57\n",
      "2023-T2      67637.98\n",
      "2023-T3      60528.60\n",
      "2023-T4     108828.51\n",
      "2024-T1    1390790.57\n",
      "2024-T2      35916.00\n",
      "2024-T3      39890.00\n",
      "2024-T4       9150.00\n",
      "Name: Empenhado_float, dtype: float64\n"
     ]
    }
   ],
   "source": [
    "# SOMA DE EMPENHOS POR TRIMESTRE\n",
    "# Create a new column for the trimester (1, 2, 3, or 4 based on the month)\n",
    "df['Trimester'] = (df['Data_datetime'].dt.month - 1) // 3 + 1\n",
    "\n",
    "# Create a new column for year-trimester (e.g., \"2021-T1\", \"2021-T2\")\n",
    "df['Year_Trimester'] = df['Data_datetime'].dt.year.astype(str) + '-T' + df['Trimester'].astype(str)\n",
    "\n",
    "# Group by 'Year_Trimester' and sum the values\n",
    "total_empenhado_por_trimestre = df.groupby('Year_Trimester')['Empenhado_float'].sum()\n",
    "\n",
    "# Display the result\n",
    "print(total_empenhado_por_trimestre)\n"
   ]
  },
  {
   "cell_type": "code",
   "execution_count": 58,
   "metadata": {},
   "outputs": [
    {
     "name": "stdout",
     "output_type": "stream",
     "text": [
      "Year_Bimester\n",
      "2021-B1     941805.00\n",
      "2021-B2        996.00\n",
      "2021-B3       4547.40\n",
      "2021-B4       2160.00\n",
      "2021-B5        470.00\n",
      "2021-B6      18876.37\n",
      "2022-B1    1007378.00\n",
      "2022-B2      17580.00\n",
      "2022-B3      60779.10\n",
      "2022-B4      27190.23\n",
      "2022-B5       2323.21\n",
      "2022-B6      32449.57\n",
      "2023-B1    1131203.87\n",
      "2023-B2      54728.30\n",
      "2023-B3      54392.38\n",
      "2023-B4      43420.00\n",
      "2023-B5      54208.60\n",
      "2023-B6      71728.51\n",
      "2024-B1    1381196.72\n",
      "2024-B2      34293.85\n",
      "2024-B3      11216.00\n",
      "2024-B4      39890.00\n",
      "2024-B5       9150.00\n",
      "Name: Empenhado_float, dtype: float64\n"
     ]
    }
   ],
   "source": [
    "# SOMA DE EMPENHOS POR BIMESTRE\n",
    "# Create a new column for the bimester (1 through 6, based on the month)\n",
    "df['Bimester'] = (df['Data_datetime'].dt.month - 1) // 2 + 1\n",
    "\n",
    "# Create a new column for year-bimester (e.g., \"2021-B1\", \"2021-B2\")\n",
    "df['Year_Bimester'] = df['Data_datetime'].dt.year.astype(str) + '-B' + df['Bimester'].astype(str)\n",
    "\n",
    "# Group by 'Year_Bimester' and sum the values\n",
    "total_empenhado_por_bimestre = df.groupby('Year_Bimester')['Empenhado_float'].sum()\n",
    "\n",
    "# Display the result\n",
    "print(total_empenhado_por_bimestre)\n"
   ]
  },
  {
   "cell_type": "code",
   "execution_count": 65,
   "metadata": {},
   "outputs": [
    {
     "data": {
      "text/html": [
       "<div>\n",
       "<style scoped>\n",
       "    .dataframe tbody tr th:only-of-type {\n",
       "        vertical-align: middle;\n",
       "    }\n",
       "\n",
       "    .dataframe tbody tr th {\n",
       "        vertical-align: top;\n",
       "    }\n",
       "\n",
       "    .dataframe thead th {\n",
       "        text-align: right;\n",
       "    }\n",
       "</style>\n",
       "<table border=\"1\" class=\"dataframe\">\n",
       "  <thead>\n",
       "    <tr style=\"text-align: right;\">\n",
       "      <th></th>\n",
       "      <th>Número</th>\n",
       "      <th>Data</th>\n",
       "      <th>Credor</th>\n",
       "      <th>Alteração</th>\n",
       "      <th>Empenhado</th>\n",
       "      <th>Liquidado</th>\n",
       "      <th>Pago</th>\n",
       "      <th>Atualizado</th>\n",
       "      <th>link_Detalhes</th>\n",
       "      <th>Poder</th>\n",
       "      <th>Função</th>\n",
       "      <th>Elemento_de_Despesa</th>\n",
       "      <th>Unid_Administradora</th>\n",
       "      <th>Subfunção</th>\n",
       "      <th>Subelemento</th>\n",
       "      <th>Unid_Orçamentária</th>\n",
       "      <th>Fonte_de_recurso</th>\n",
       "      <th>Projeto_Atividade</th>\n",
       "      <th>Categorias_de_base_legal</th>\n",
       "      <th>Histórico</th>\n",
       "      <th>Itens</th>\n",
       "      <th>Data_datetime</th>\n",
       "      <th>Atualizado_datetime</th>\n",
       "      <th>Alteração_float</th>\n",
       "      <th>Empenhado_float</th>\n",
       "      <th>Liquidado_float</th>\n",
       "      <th>Pago_float</th>\n",
       "      <th>Quadrimester</th>\n",
       "      <th>Year_Quadrimester</th>\n",
       "      <th>Trimester</th>\n",
       "      <th>Year_Trimester</th>\n",
       "      <th>Bimester</th>\n",
       "      <th>Year_Bimester</th>\n",
       "    </tr>\n",
       "  </thead>\n",
       "  <tbody>\n",
       "    <tr>\n",
       "      <th>0</th>\n",
       "      <td>8230001</td>\n",
       "      <td>23/08/2024</td>\n",
       "      <td>***.040.305-** - EDSON GIL DOS SANTOS</td>\n",
       "      <td>R$ 0,00</td>\n",
       "      <td>R$ 300,00</td>\n",
       "      <td>R$ 300,00</td>\n",
       "      <td>R$ 300,00</td>\n",
       "      <td>23/08/2024</td>\n",
       "      <td>https://portal.sitesagapesistemas.com.br/agape...</td>\n",
       "      <td>1 - LEGISLATIVO</td>\n",
       "      <td>01 - LEGISLATIVA</td>\n",
       "      <td>3390140000 - DIARIAS - CIVIL</td>\n",
       "      <td>1 - CÂMARA MUNICIPAL DE PINHÃO</td>\n",
       "      <td>031 - ACAO LEGISLATIVA</td>\n",
       "      <td>01 - DIARIAS  DENTRO DO ESTADO</td>\n",
       "      <td>10100 - CÂMARA MUNICIPAL DE PINHÃO</td>\n",
       "      <td>15000000 - Recursos não Vinculados de Impostos</td>\n",
       "      <td>2001 - MANUTENÇÃO DAS ATIVIDADES DA CÂMARA MUN...</td>\n",
       "      <td>DISPENSADO/2024</td>\n",
       "      <td>VALOR QUE SE EMPENHA REFERENTE A DESPESA DE UM...</td>\n",
       "      <td>[[Descrição, Tipo, Quantidade, Valor unitário,...</td>\n",
       "      <td>2024-08-23</td>\n",
       "      <td>2024-08-23</td>\n",
       "      <td>0.0</td>\n",
       "      <td>300.0</td>\n",
       "      <td>300.00</td>\n",
       "      <td>300.00</td>\n",
       "      <td>2</td>\n",
       "      <td>2024-Q2</td>\n",
       "      <td>3</td>\n",
       "      <td>2024-T3</td>\n",
       "      <td>4</td>\n",
       "      <td>2024-B4</td>\n",
       "    </tr>\n",
       "    <tr>\n",
       "      <th>1</th>\n",
       "      <td>8160001</td>\n",
       "      <td>16/08/2024</td>\n",
       "      <td>07166543000122 - CÂMARA MUNICIPAL DE PINHÃO</td>\n",
       "      <td>R$ 0,00</td>\n",
       "      <td>R$ 3.590,00</td>\n",
       "      <td>R$ 438,15</td>\n",
       "      <td>R$ 438,15</td>\n",
       "      <td>16/08/2024</td>\n",
       "      <td>https://portal.sitesagapesistemas.com.br/agape...</td>\n",
       "      <td>1 - LEGISLATIVO</td>\n",
       "      <td>01 - LEGISLATIVA</td>\n",
       "      <td>3190110000 - VENCIM.E VANTAGENS FIXAS-PESSOAL ...</td>\n",
       "      <td>1 - CÂMARA MUNICIPAL DE PINHÃO</td>\n",
       "      <td>031 - ACAO LEGISLATIVA</td>\n",
       "      <td>10 - ADICIONAL DE DESENPENHO/ABONO DE FERIAS</td>\n",
       "      <td>10100 - CÂMARA MUNICIPAL DE PINHÃO</td>\n",
       "      <td>15000000 - Recursos não Vinculados de Impostos</td>\n",
       "      <td>2001 - MANUTENÇÃO DAS ATIVIDADES DA CÂMARA MUN...</td>\n",
       "      <td>DISPENSADO/2024</td>\n",
       "      <td>VALOR QUE SE EMPENHA REFERENTE AO COMPLEMENTO ...</td>\n",
       "      <td>[[Descrição, Tipo, Quantidade, Valor unitário,...</td>\n",
       "      <td>2024-08-16</td>\n",
       "      <td>2024-08-16</td>\n",
       "      <td>0.0</td>\n",
       "      <td>3590.0</td>\n",
       "      <td>438.15</td>\n",
       "      <td>438.15</td>\n",
       "      <td>2</td>\n",
       "      <td>2024-Q2</td>\n",
       "      <td>3</td>\n",
       "      <td>2024-T3</td>\n",
       "      <td>4</td>\n",
       "      <td>2024-B4</td>\n",
       "    </tr>\n",
       "    <tr>\n",
       "      <th>2</th>\n",
       "      <td>8080010</td>\n",
       "      <td>08/08/2024</td>\n",
       "      <td>***.957.255-** - NEY PAULO ANDRADE ALMEIDA</td>\n",
       "      <td>R$ 0,00</td>\n",
       "      <td>R$ 1.800,00</td>\n",
       "      <td>R$ 1.800,00</td>\n",
       "      <td>R$ 1.800,00</td>\n",
       "      <td>08/08/2024</td>\n",
       "      <td>https://portal.sitesagapesistemas.com.br/agape...</td>\n",
       "      <td>1 - LEGISLATIVO</td>\n",
       "      <td>01 - LEGISLATIVA</td>\n",
       "      <td>3390140000 - DIARIAS - CIVIL</td>\n",
       "      <td>1 - CÂMARA MUNICIPAL DE PINHÃO</td>\n",
       "      <td>031 - ACAO LEGISLATIVA</td>\n",
       "      <td>02 - DIARIAS PARA OUTRO ESTADO</td>\n",
       "      <td>10100 - CÂMARA MUNICIPAL DE PINHÃO</td>\n",
       "      <td>15000000 - Recursos não Vinculados de Impostos</td>\n",
       "      <td>2001 - MANUTENÇÃO DAS ATIVIDADES DA CÂMARA MUN...</td>\n",
       "      <td>DISPENSADO/2024</td>\n",
       "      <td>VALOR QUE SE EMPENHA REFERENTE A DESPESA DE TR...</td>\n",
       "      <td>[[Descrição, Tipo, Quantidade, Valor unitário,...</td>\n",
       "      <td>2024-08-08</td>\n",
       "      <td>2024-08-08</td>\n",
       "      <td>0.0</td>\n",
       "      <td>1800.0</td>\n",
       "      <td>1800.00</td>\n",
       "      <td>1800.00</td>\n",
       "      <td>2</td>\n",
       "      <td>2024-Q2</td>\n",
       "      <td>3</td>\n",
       "      <td>2024-T3</td>\n",
       "      <td>4</td>\n",
       "      <td>2024-B4</td>\n",
       "    </tr>\n",
       "    <tr>\n",
       "      <th>3</th>\n",
       "      <td>7180001</td>\n",
       "      <td>18/07/2024</td>\n",
       "      <td>***.384.615-** - RENOALDO COSTA SILVA JUNIOR</td>\n",
       "      <td>R$ 0,00</td>\n",
       "      <td>R$ 1.800,00</td>\n",
       "      <td>R$ 1.800,00</td>\n",
       "      <td>R$ 1.800,00</td>\n",
       "      <td>18/07/2024</td>\n",
       "      <td>https://portal.sitesagapesistemas.com.br/agape...</td>\n",
       "      <td>1 - LEGISLATIVO</td>\n",
       "      <td>01 - LEGISLATIVA</td>\n",
       "      <td>3390140000 - DIARIAS - CIVIL</td>\n",
       "      <td>1 - CÂMARA MUNICIPAL DE PINHÃO</td>\n",
       "      <td>031 - ACAO LEGISLATIVA</td>\n",
       "      <td>02 - DIARIAS PARA OUTRO ESTADO</td>\n",
       "      <td>10100 - CÂMARA MUNICIPAL DE PINHÃO</td>\n",
       "      <td>15000000 - Recursos não Vinculados de Impostos</td>\n",
       "      <td>2001 - MANUTENÇÃO DAS ATIVIDADES DA CÂMARA MUN...</td>\n",
       "      <td>DISPENSADO/2024</td>\n",
       "      <td>VALOR QUE SE EMPENHA REFERENTE A DESPESA DE TR...</td>\n",
       "      <td>[[Descrição, Tipo, Quantidade, Valor unitário,...</td>\n",
       "      <td>2024-07-18</td>\n",
       "      <td>2024-07-18</td>\n",
       "      <td>0.0</td>\n",
       "      <td>1800.0</td>\n",
       "      <td>1800.00</td>\n",
       "      <td>1800.00</td>\n",
       "      <td>2</td>\n",
       "      <td>2024-Q2</td>\n",
       "      <td>3</td>\n",
       "      <td>2024-T3</td>\n",
       "      <td>4</td>\n",
       "      <td>2024-B4</td>\n",
       "    </tr>\n",
       "    <tr>\n",
       "      <th>4</th>\n",
       "      <td>7040001</td>\n",
       "      <td>04/07/2024</td>\n",
       "      <td>***.384.615-** - RENOALDO COSTA SILVA JUNIOR</td>\n",
       "      <td>R$ 0,00</td>\n",
       "      <td>R$ 1.800,00</td>\n",
       "      <td>R$ 1.800,00</td>\n",
       "      <td>R$ 1.800,00</td>\n",
       "      <td>04/07/2024</td>\n",
       "      <td>https://portal.sitesagapesistemas.com.br/agape...</td>\n",
       "      <td>1 - LEGISLATIVO</td>\n",
       "      <td>01 - LEGISLATIVA</td>\n",
       "      <td>3390140000 - DIARIAS - CIVIL</td>\n",
       "      <td>1 - CÂMARA MUNICIPAL DE PINHÃO</td>\n",
       "      <td>031 - ACAO LEGISLATIVA</td>\n",
       "      <td>02 - DIARIAS PARA OUTRO ESTADO</td>\n",
       "      <td>10100 - CÂMARA MUNICIPAL DE PINHÃO</td>\n",
       "      <td>15000000 - Recursos não Vinculados de Impostos</td>\n",
       "      <td>2001 - MANUTENÇÃO DAS ATIVIDADES DA CÂMARA MUN...</td>\n",
       "      <td>DISPENSADO/2024</td>\n",
       "      <td>VALOR QUE SE EMPENHA REFERENTE A DESPESA DE TR...</td>\n",
       "      <td>[[Descrição, Tipo, Quantidade, Valor unitário,...</td>\n",
       "      <td>2024-07-04</td>\n",
       "      <td>2024-07-04</td>\n",
       "      <td>0.0</td>\n",
       "      <td>1800.0</td>\n",
       "      <td>1800.00</td>\n",
       "      <td>1800.00</td>\n",
       "      <td>2</td>\n",
       "      <td>2024-Q2</td>\n",
       "      <td>3</td>\n",
       "      <td>2024-T3</td>\n",
       "      <td>4</td>\n",
       "      <td>2024-B4</td>\n",
       "    </tr>\n",
       "    <tr>\n",
       "      <th>...</th>\n",
       "      <td>...</td>\n",
       "      <td>...</td>\n",
       "      <td>...</td>\n",
       "      <td>...</td>\n",
       "      <td>...</td>\n",
       "      <td>...</td>\n",
       "      <td>...</td>\n",
       "      <td>...</td>\n",
       "      <td>...</td>\n",
       "      <td>...</td>\n",
       "      <td>...</td>\n",
       "      <td>...</td>\n",
       "      <td>...</td>\n",
       "      <td>...</td>\n",
       "      <td>...</td>\n",
       "      <td>...</td>\n",
       "      <td>...</td>\n",
       "      <td>...</td>\n",
       "      <td>...</td>\n",
       "      <td>...</td>\n",
       "      <td>...</td>\n",
       "      <td>...</td>\n",
       "      <td>...</td>\n",
       "      <td>...</td>\n",
       "      <td>...</td>\n",
       "      <td>...</td>\n",
       "      <td>...</td>\n",
       "      <td>...</td>\n",
       "      <td>...</td>\n",
       "      <td>...</td>\n",
       "      <td>...</td>\n",
       "      <td>...</td>\n",
       "      <td>...</td>\n",
       "    </tr>\n",
       "    <tr>\n",
       "      <th>483</th>\n",
       "      <td>1040003</td>\n",
       "      <td>04/01/2021</td>\n",
       "      <td>07166543000122 - CÂMARA MUNICIPAL DE PINHÃO</td>\n",
       "      <td>R$ 0,00</td>\n",
       "      <td>R$ 540.000,00</td>\n",
       "      <td>R$ 540.000,00</td>\n",
       "      <td>R$ 540.000,00</td>\n",
       "      <td>04/01/2021</td>\n",
       "      <td>https://portal.sitesagapesistemas.com.br/agape...</td>\n",
       "      <td>1 - LEGISLATIVO</td>\n",
       "      <td>01 - LEGISLATIVA</td>\n",
       "      <td>3190110000 - VENCIM.E VANTAGENS FIXAS-PESSOAL ...</td>\n",
       "      <td>1 - CÂMARA MUNICIPAL DE PINHÃO</td>\n",
       "      <td>031 - ACAO LEGISLATIVA</td>\n",
       "      <td>02 - SUBSIDIO</td>\n",
       "      <td>10100 - CÂMARA MUNICIPAL DE PINHÃO</td>\n",
       "      <td>10010000 - Recursos Ordinários</td>\n",
       "      <td>2001 - MANUTENÇÃO DAS ATIVIDADES DA CÂMARA MUN...</td>\n",
       "      <td>DISPENSADO/2021</td>\n",
       "      <td>VALOR QUE SE EMPENHA REFERENTE A FOLHA DE PAGA...</td>\n",
       "      <td>[[Descrição, Tipo, Quantidade, Valor unitário,...</td>\n",
       "      <td>2021-01-04</td>\n",
       "      <td>2021-01-04</td>\n",
       "      <td>0.0</td>\n",
       "      <td>540000.0</td>\n",
       "      <td>540000.00</td>\n",
       "      <td>540000.00</td>\n",
       "      <td>1</td>\n",
       "      <td>2021-Q1</td>\n",
       "      <td>1</td>\n",
       "      <td>2021-T1</td>\n",
       "      <td>1</td>\n",
       "      <td>2021-B1</td>\n",
       "    </tr>\n",
       "    <tr>\n",
       "      <th>484</th>\n",
       "      <td>1040002</td>\n",
       "      <td>04/01/2021</td>\n",
       "      <td>02157435000170 - LOPES CONSULTORIA E SERVICOS ...</td>\n",
       "      <td>R$ 0,00</td>\n",
       "      <td>R$ 61.100,00</td>\n",
       "      <td>R$ 61.100,00</td>\n",
       "      <td>R$ 61.100,00</td>\n",
       "      <td>04/01/2021</td>\n",
       "      <td>https://portal.sitesagapesistemas.com.br/agape...</td>\n",
       "      <td>1 - LEGISLATIVO</td>\n",
       "      <td>01 - LEGISLATIVA</td>\n",
       "      <td>3390350000 - SERVICOS DE CONSULTORIA</td>\n",
       "      <td>1 - CÂMARA MUNICIPAL DE PINHÃO</td>\n",
       "      <td>031 - ACAO LEGISLATIVA</td>\n",
       "      <td>04 - ASSESSORIA E/OU AUDITORIA CONTABIL/FINANC...</td>\n",
       "      <td>10100 - CÂMARA MUNICIPAL DE PINHÃO</td>\n",
       "      <td>10010000 - Recursos Ordinários</td>\n",
       "      <td>2001 - MANUTENÇÃO DAS ATIVIDADES DA CÂMARA MUN...</td>\n",
       "      <td>INEXIGIVEL, ART. 25, INCISO II, LEI 8.666/93/2021</td>\n",
       "      <td>VALOR QUE SE EMPENHA REFERENTE A PRESTAÇÃO DE ...</td>\n",
       "      <td>[[Descrição, Tipo, Quantidade, Valor unitário,...</td>\n",
       "      <td>2021-01-04</td>\n",
       "      <td>2021-01-04</td>\n",
       "      <td>0.0</td>\n",
       "      <td>61100.0</td>\n",
       "      <td>61100.00</td>\n",
       "      <td>61100.00</td>\n",
       "      <td>1</td>\n",
       "      <td>2021-Q1</td>\n",
       "      <td>1</td>\n",
       "      <td>2021-T1</td>\n",
       "      <td>1</td>\n",
       "      <td>2021-B1</td>\n",
       "    </tr>\n",
       "    <tr>\n",
       "      <th>485</th>\n",
       "      <td>1040001</td>\n",
       "      <td>04/01/2021</td>\n",
       "      <td>***.770.675-** - ANA CARLA MENDONÇA DE GOIS</td>\n",
       "      <td>R$ 0,00</td>\n",
       "      <td>R$ 3.500,00</td>\n",
       "      <td>R$ 3.500,00</td>\n",
       "      <td>R$ 3.500,00</td>\n",
       "      <td>04/01/2021</td>\n",
       "      <td>https://portal.sitesagapesistemas.com.br/agape...</td>\n",
       "      <td>1 - LEGISLATIVO</td>\n",
       "      <td>01 - LEGISLATIVA</td>\n",
       "      <td>3390350000 - SERVICOS DE CONSULTORIA</td>\n",
       "      <td>1 - CÂMARA MUNICIPAL DE PINHÃO</td>\n",
       "      <td>031 - ACAO LEGISLATIVA</td>\n",
       "      <td>01 - ASSESSORIA E/OU CONSULTORIA TECNICA OU JU...</td>\n",
       "      <td>10100 - CÂMARA MUNICIPAL DE PINHÃO</td>\n",
       "      <td>10010000 - Recursos Ordinários</td>\n",
       "      <td>2001 - MANUTENÇÃO DAS ATIVIDADES DA CÂMARA MUN...</td>\n",
       "      <td>DISPENSAVEL, ART. 24, INCISO II, LEI 8.666/93/...</td>\n",
       "      <td>VALOR QUE SE EMPENHA REFERENTE A PRESTAÇÃO DE ...</td>\n",
       "      <td>[[Descrição, Tipo, Quantidade, Valor unitário,...</td>\n",
       "      <td>2021-01-04</td>\n",
       "      <td>2021-01-04</td>\n",
       "      <td>0.0</td>\n",
       "      <td>3500.0</td>\n",
       "      <td>3500.00</td>\n",
       "      <td>3500.00</td>\n",
       "      <td>1</td>\n",
       "      <td>2021-Q1</td>\n",
       "      <td>1</td>\n",
       "      <td>2021-T1</td>\n",
       "      <td>1</td>\n",
       "      <td>2021-B1</td>\n",
       "    </tr>\n",
       "    <tr>\n",
       "      <th>486</th>\n",
       "      <td>10110001</td>\n",
       "      <td>11/10/2024</td>\n",
       "      <td>34464850000162 - PORTALLICITA, ASSESSORIA, CON...</td>\n",
       "      <td>R$ 0,00</td>\n",
       "      <td>R$ 8.000,00</td>\n",
       "      <td>R$ 0,00</td>\n",
       "      <td>R$ 0,00</td>\n",
       "      <td>11/10/2024</td>\n",
       "      <td>https://portal.sitesagapesistemas.com.br/agape...</td>\n",
       "      <td>1 - LEGISLATIVO</td>\n",
       "      <td>01 - LEGISLATIVA</td>\n",
       "      <td>3390350000 - SERVICOS DE CONSULTORIA</td>\n",
       "      <td>1 - CÂMARA MUNICIPAL DE PINHÃO</td>\n",
       "      <td>031 - ACAO LEGISLATIVA</td>\n",
       "      <td>02 - ASSESSORIA E/OU CONSULTORIA TECNICA OU JU...</td>\n",
       "      <td>10100 - CÂMARA MUNICIPAL DE PINHÃO</td>\n",
       "      <td>15000000 - Recursos não Vinculados de Impostos</td>\n",
       "      <td>2001 - MANUTENÇÃO DAS ATIVIDADES DA CÂMARA MUN...</td>\n",
       "      <td>INEXIGIVEL, ART. 25, INCISO II, LEI 8.666/93/2024</td>\n",
       "      <td>VALOR QUE SE EMPENHA REFERENTE CONTRATAÇÃO DE ...</td>\n",
       "      <td>[[Descrição, Tipo, Quantidade, Valor unitário,...</td>\n",
       "      <td>2024-10-11</td>\n",
       "      <td>2024-10-11</td>\n",
       "      <td>0.0</td>\n",
       "      <td>8000.0</td>\n",
       "      <td>0.00</td>\n",
       "      <td>0.00</td>\n",
       "      <td>3</td>\n",
       "      <td>2024-Q3</td>\n",
       "      <td>4</td>\n",
       "      <td>2024-T4</td>\n",
       "      <td>5</td>\n",
       "      <td>2024-B5</td>\n",
       "    </tr>\n",
       "    <tr>\n",
       "      <th>487</th>\n",
       "      <td>10140001</td>\n",
       "      <td>14/10/2024</td>\n",
       "      <td>10441542000153 - BRUNO DE OLIVEIRA CORREA DANT...</td>\n",
       "      <td>R$ 0,00</td>\n",
       "      <td>R$ 1.150,00</td>\n",
       "      <td>R$ 0,00</td>\n",
       "      <td>R$ 0,00</td>\n",
       "      <td>14/10/2024</td>\n",
       "      <td>https://portal.sitesagapesistemas.com.br/agape...</td>\n",
       "      <td>1 - LEGISLATIVO</td>\n",
       "      <td>01 - LEGISLATIVA</td>\n",
       "      <td>3390390000 - OUTROS SERV.TERCEIROS-PESSOA JURI...</td>\n",
       "      <td>1 - CÂMARA MUNICIPAL DE PINHÃO</td>\n",
       "      <td>031 - ACAO LEGISLATIVA</td>\n",
       "      <td>15 - MANUTENCAO E CONSERVACAO DE MAQUINAS E EQ...</td>\n",
       "      <td>10100 - CÂMARA MUNICIPAL DE PINHÃO</td>\n",
       "      <td>15000000 - Recursos não Vinculados de Impostos</td>\n",
       "      <td>2001 - MANUTENÇÃO DAS ATIVIDADES DA CÂMARA MUN...</td>\n",
       "      <td>BASE LEGAL ART 95 INCISO 1 LEI 14.133/2024</td>\n",
       "      <td>VALOR QUE SE EMPENHA REFERENTE A MANUTENÇÃO DE...</td>\n",
       "      <td>[[Descrição, Tipo, Quantidade, Valor unitário,...</td>\n",
       "      <td>2024-10-14</td>\n",
       "      <td>2024-10-14</td>\n",
       "      <td>0.0</td>\n",
       "      <td>1150.0</td>\n",
       "      <td>0.00</td>\n",
       "      <td>0.00</td>\n",
       "      <td>3</td>\n",
       "      <td>2024-Q3</td>\n",
       "      <td>4</td>\n",
       "      <td>2024-T4</td>\n",
       "      <td>5</td>\n",
       "      <td>2024-B5</td>\n",
       "    </tr>\n",
       "  </tbody>\n",
       "</table>\n",
       "<p>488 rows × 33 columns</p>\n",
       "</div>"
      ],
      "text/plain": [
       "       Número        Data                                             Credor  \\\n",
       "0     8230001  23/08/2024              ***.040.305-** - EDSON GIL DOS SANTOS   \n",
       "1     8160001  16/08/2024        07166543000122 - CÂMARA MUNICIPAL DE PINHÃO   \n",
       "2     8080010  08/08/2024         ***.957.255-** - NEY PAULO ANDRADE ALMEIDA   \n",
       "3     7180001  18/07/2024       ***.384.615-** - RENOALDO COSTA SILVA JUNIOR   \n",
       "4     7040001  04/07/2024       ***.384.615-** - RENOALDO COSTA SILVA JUNIOR   \n",
       "..        ...         ...                                                ...   \n",
       "483   1040003  04/01/2021        07166543000122 - CÂMARA MUNICIPAL DE PINHÃO   \n",
       "484   1040002  04/01/2021  02157435000170 - LOPES CONSULTORIA E SERVICOS ...   \n",
       "485   1040001  04/01/2021        ***.770.675-** - ANA CARLA MENDONÇA DE GOIS   \n",
       "486  10110001  11/10/2024  34464850000162 - PORTALLICITA, ASSESSORIA, CON...   \n",
       "487  10140001  14/10/2024  10441542000153 - BRUNO DE OLIVEIRA CORREA DANT...   \n",
       "\n",
       "    Alteração      Empenhado      Liquidado           Pago  Atualizado  \\\n",
       "0     R$ 0,00      R$ 300,00      R$ 300,00      R$ 300,00  23/08/2024   \n",
       "1     R$ 0,00    R$ 3.590,00      R$ 438,15      R$ 438,15  16/08/2024   \n",
       "2     R$ 0,00    R$ 1.800,00    R$ 1.800,00    R$ 1.800,00  08/08/2024   \n",
       "3     R$ 0,00    R$ 1.800,00    R$ 1.800,00    R$ 1.800,00  18/07/2024   \n",
       "4     R$ 0,00    R$ 1.800,00    R$ 1.800,00    R$ 1.800,00  04/07/2024   \n",
       "..        ...            ...            ...            ...         ...   \n",
       "483   R$ 0,00  R$ 540.000,00  R$ 540.000,00  R$ 540.000,00  04/01/2021   \n",
       "484   R$ 0,00   R$ 61.100,00   R$ 61.100,00   R$ 61.100,00  04/01/2021   \n",
       "485   R$ 0,00    R$ 3.500,00    R$ 3.500,00    R$ 3.500,00  04/01/2021   \n",
       "486   R$ 0,00    R$ 8.000,00        R$ 0,00        R$ 0,00  11/10/2024   \n",
       "487   R$ 0,00    R$ 1.150,00        R$ 0,00        R$ 0,00  14/10/2024   \n",
       "\n",
       "                                         link_Detalhes            Poder  \\\n",
       "0    https://portal.sitesagapesistemas.com.br/agape...  1 - LEGISLATIVO   \n",
       "1    https://portal.sitesagapesistemas.com.br/agape...  1 - LEGISLATIVO   \n",
       "2    https://portal.sitesagapesistemas.com.br/agape...  1 - LEGISLATIVO   \n",
       "3    https://portal.sitesagapesistemas.com.br/agape...  1 - LEGISLATIVO   \n",
       "4    https://portal.sitesagapesistemas.com.br/agape...  1 - LEGISLATIVO   \n",
       "..                                                 ...              ...   \n",
       "483  https://portal.sitesagapesistemas.com.br/agape...  1 - LEGISLATIVO   \n",
       "484  https://portal.sitesagapesistemas.com.br/agape...  1 - LEGISLATIVO   \n",
       "485  https://portal.sitesagapesistemas.com.br/agape...  1 - LEGISLATIVO   \n",
       "486  https://portal.sitesagapesistemas.com.br/agape...  1 - LEGISLATIVO   \n",
       "487  https://portal.sitesagapesistemas.com.br/agape...  1 - LEGISLATIVO   \n",
       "\n",
       "               Função                                Elemento_de_Despesa  \\\n",
       "0    01 - LEGISLATIVA                       3390140000 - DIARIAS - CIVIL   \n",
       "1    01 - LEGISLATIVA  3190110000 - VENCIM.E VANTAGENS FIXAS-PESSOAL ...   \n",
       "2    01 - LEGISLATIVA                       3390140000 - DIARIAS - CIVIL   \n",
       "3    01 - LEGISLATIVA                       3390140000 - DIARIAS - CIVIL   \n",
       "4    01 - LEGISLATIVA                       3390140000 - DIARIAS - CIVIL   \n",
       "..                ...                                                ...   \n",
       "483  01 - LEGISLATIVA  3190110000 - VENCIM.E VANTAGENS FIXAS-PESSOAL ...   \n",
       "484  01 - LEGISLATIVA               3390350000 - SERVICOS DE CONSULTORIA   \n",
       "485  01 - LEGISLATIVA               3390350000 - SERVICOS DE CONSULTORIA   \n",
       "486  01 - LEGISLATIVA               3390350000 - SERVICOS DE CONSULTORIA   \n",
       "487  01 - LEGISLATIVA  3390390000 - OUTROS SERV.TERCEIROS-PESSOA JURI...   \n",
       "\n",
       "                Unid_Administradora               Subfunção  \\\n",
       "0    1 - CÂMARA MUNICIPAL DE PINHÃO  031 - ACAO LEGISLATIVA   \n",
       "1    1 - CÂMARA MUNICIPAL DE PINHÃO  031 - ACAO LEGISLATIVA   \n",
       "2    1 - CÂMARA MUNICIPAL DE PINHÃO  031 - ACAO LEGISLATIVA   \n",
       "3    1 - CÂMARA MUNICIPAL DE PINHÃO  031 - ACAO LEGISLATIVA   \n",
       "4    1 - CÂMARA MUNICIPAL DE PINHÃO  031 - ACAO LEGISLATIVA   \n",
       "..                              ...                     ...   \n",
       "483  1 - CÂMARA MUNICIPAL DE PINHÃO  031 - ACAO LEGISLATIVA   \n",
       "484  1 - CÂMARA MUNICIPAL DE PINHÃO  031 - ACAO LEGISLATIVA   \n",
       "485  1 - CÂMARA MUNICIPAL DE PINHÃO  031 - ACAO LEGISLATIVA   \n",
       "486  1 - CÂMARA MUNICIPAL DE PINHÃO  031 - ACAO LEGISLATIVA   \n",
       "487  1 - CÂMARA MUNICIPAL DE PINHÃO  031 - ACAO LEGISLATIVA   \n",
       "\n",
       "                                           Subelemento  \\\n",
       "0                       01 - DIARIAS  DENTRO DO ESTADO   \n",
       "1         10 - ADICIONAL DE DESENPENHO/ABONO DE FERIAS   \n",
       "2                       02 - DIARIAS PARA OUTRO ESTADO   \n",
       "3                       02 - DIARIAS PARA OUTRO ESTADO   \n",
       "4                       02 - DIARIAS PARA OUTRO ESTADO   \n",
       "..                                                 ...   \n",
       "483                                      02 - SUBSIDIO   \n",
       "484  04 - ASSESSORIA E/OU AUDITORIA CONTABIL/FINANC...   \n",
       "485  01 - ASSESSORIA E/OU CONSULTORIA TECNICA OU JU...   \n",
       "486  02 - ASSESSORIA E/OU CONSULTORIA TECNICA OU JU...   \n",
       "487  15 - MANUTENCAO E CONSERVACAO DE MAQUINAS E EQ...   \n",
       "\n",
       "                      Unid_Orçamentária  \\\n",
       "0    10100 - CÂMARA MUNICIPAL DE PINHÃO   \n",
       "1    10100 - CÂMARA MUNICIPAL DE PINHÃO   \n",
       "2    10100 - CÂMARA MUNICIPAL DE PINHÃO   \n",
       "3    10100 - CÂMARA MUNICIPAL DE PINHÃO   \n",
       "4    10100 - CÂMARA MUNICIPAL DE PINHÃO   \n",
       "..                                  ...   \n",
       "483  10100 - CÂMARA MUNICIPAL DE PINHÃO   \n",
       "484  10100 - CÂMARA MUNICIPAL DE PINHÃO   \n",
       "485  10100 - CÂMARA MUNICIPAL DE PINHÃO   \n",
       "486  10100 - CÂMARA MUNICIPAL DE PINHÃO   \n",
       "487  10100 - CÂMARA MUNICIPAL DE PINHÃO   \n",
       "\n",
       "                                   Fonte_de_recurso  \\\n",
       "0    15000000 - Recursos não Vinculados de Impostos   \n",
       "1    15000000 - Recursos não Vinculados de Impostos   \n",
       "2    15000000 - Recursos não Vinculados de Impostos   \n",
       "3    15000000 - Recursos não Vinculados de Impostos   \n",
       "4    15000000 - Recursos não Vinculados de Impostos   \n",
       "..                                              ...   \n",
       "483                  10010000 - Recursos Ordinários   \n",
       "484                  10010000 - Recursos Ordinários   \n",
       "485                  10010000 - Recursos Ordinários   \n",
       "486  15000000 - Recursos não Vinculados de Impostos   \n",
       "487  15000000 - Recursos não Vinculados de Impostos   \n",
       "\n",
       "                                     Projeto_Atividade  \\\n",
       "0    2001 - MANUTENÇÃO DAS ATIVIDADES DA CÂMARA MUN...   \n",
       "1    2001 - MANUTENÇÃO DAS ATIVIDADES DA CÂMARA MUN...   \n",
       "2    2001 - MANUTENÇÃO DAS ATIVIDADES DA CÂMARA MUN...   \n",
       "3    2001 - MANUTENÇÃO DAS ATIVIDADES DA CÂMARA MUN...   \n",
       "4    2001 - MANUTENÇÃO DAS ATIVIDADES DA CÂMARA MUN...   \n",
       "..                                                 ...   \n",
       "483  2001 - MANUTENÇÃO DAS ATIVIDADES DA CÂMARA MUN...   \n",
       "484  2001 - MANUTENÇÃO DAS ATIVIDADES DA CÂMARA MUN...   \n",
       "485  2001 - MANUTENÇÃO DAS ATIVIDADES DA CÂMARA MUN...   \n",
       "486  2001 - MANUTENÇÃO DAS ATIVIDADES DA CÂMARA MUN...   \n",
       "487  2001 - MANUTENÇÃO DAS ATIVIDADES DA CÂMARA MUN...   \n",
       "\n",
       "                              Categorias_de_base_legal  \\\n",
       "0                                      DISPENSADO/2024   \n",
       "1                                      DISPENSADO/2024   \n",
       "2                                      DISPENSADO/2024   \n",
       "3                                      DISPENSADO/2024   \n",
       "4                                      DISPENSADO/2024   \n",
       "..                                                 ...   \n",
       "483                                    DISPENSADO/2021   \n",
       "484  INEXIGIVEL, ART. 25, INCISO II, LEI 8.666/93/2021   \n",
       "485  DISPENSAVEL, ART. 24, INCISO II, LEI 8.666/93/...   \n",
       "486  INEXIGIVEL, ART. 25, INCISO II, LEI 8.666/93/2024   \n",
       "487         BASE LEGAL ART 95 INCISO 1 LEI 14.133/2024   \n",
       "\n",
       "                                             Histórico  \\\n",
       "0    VALOR QUE SE EMPENHA REFERENTE A DESPESA DE UM...   \n",
       "1    VALOR QUE SE EMPENHA REFERENTE AO COMPLEMENTO ...   \n",
       "2    VALOR QUE SE EMPENHA REFERENTE A DESPESA DE TR...   \n",
       "3    VALOR QUE SE EMPENHA REFERENTE A DESPESA DE TR...   \n",
       "4    VALOR QUE SE EMPENHA REFERENTE A DESPESA DE TR...   \n",
       "..                                                 ...   \n",
       "483  VALOR QUE SE EMPENHA REFERENTE A FOLHA DE PAGA...   \n",
       "484  VALOR QUE SE EMPENHA REFERENTE A PRESTAÇÃO DE ...   \n",
       "485  VALOR QUE SE EMPENHA REFERENTE A PRESTAÇÃO DE ...   \n",
       "486  VALOR QUE SE EMPENHA REFERENTE CONTRATAÇÃO DE ...   \n",
       "487  VALOR QUE SE EMPENHA REFERENTE A MANUTENÇÃO DE...   \n",
       "\n",
       "                                                 Itens Data_datetime  \\\n",
       "0    [[Descrição, Tipo, Quantidade, Valor unitário,...    2024-08-23   \n",
       "1    [[Descrição, Tipo, Quantidade, Valor unitário,...    2024-08-16   \n",
       "2    [[Descrição, Tipo, Quantidade, Valor unitário,...    2024-08-08   \n",
       "3    [[Descrição, Tipo, Quantidade, Valor unitário,...    2024-07-18   \n",
       "4    [[Descrição, Tipo, Quantidade, Valor unitário,...    2024-07-04   \n",
       "..                                                 ...           ...   \n",
       "483  [[Descrição, Tipo, Quantidade, Valor unitário,...    2021-01-04   \n",
       "484  [[Descrição, Tipo, Quantidade, Valor unitário,...    2021-01-04   \n",
       "485  [[Descrição, Tipo, Quantidade, Valor unitário,...    2021-01-04   \n",
       "486  [[Descrição, Tipo, Quantidade, Valor unitário,...    2024-10-11   \n",
       "487  [[Descrição, Tipo, Quantidade, Valor unitário,...    2024-10-14   \n",
       "\n",
       "    Atualizado_datetime  Alteração_float  Empenhado_float  Liquidado_float  \\\n",
       "0            2024-08-23              0.0            300.0           300.00   \n",
       "1            2024-08-16              0.0           3590.0           438.15   \n",
       "2            2024-08-08              0.0           1800.0          1800.00   \n",
       "3            2024-07-18              0.0           1800.0          1800.00   \n",
       "4            2024-07-04              0.0           1800.0          1800.00   \n",
       "..                  ...              ...              ...              ...   \n",
       "483          2021-01-04              0.0         540000.0        540000.00   \n",
       "484          2021-01-04              0.0          61100.0         61100.00   \n",
       "485          2021-01-04              0.0           3500.0          3500.00   \n",
       "486          2024-10-11              0.0           8000.0             0.00   \n",
       "487          2024-10-14              0.0           1150.0             0.00   \n",
       "\n",
       "     Pago_float  Quadrimester Year_Quadrimester  Trimester Year_Trimester  \\\n",
       "0        300.00             2           2024-Q2          3        2024-T3   \n",
       "1        438.15             2           2024-Q2          3        2024-T3   \n",
       "2       1800.00             2           2024-Q2          3        2024-T3   \n",
       "3       1800.00             2           2024-Q2          3        2024-T3   \n",
       "4       1800.00             2           2024-Q2          3        2024-T3   \n",
       "..          ...           ...               ...        ...            ...   \n",
       "483   540000.00             1           2021-Q1          1        2021-T1   \n",
       "484    61100.00             1           2021-Q1          1        2021-T1   \n",
       "485     3500.00             1           2021-Q1          1        2021-T1   \n",
       "486        0.00             3           2024-Q3          4        2024-T4   \n",
       "487        0.00             3           2024-Q3          4        2024-T4   \n",
       "\n",
       "     Bimester Year_Bimester  \n",
       "0           4       2024-B4  \n",
       "1           4       2024-B4  \n",
       "2           4       2024-B4  \n",
       "3           4       2024-B4  \n",
       "4           4       2024-B4  \n",
       "..        ...           ...  \n",
       "483         1       2021-B1  \n",
       "484         1       2021-B1  \n",
       "485         1       2021-B1  \n",
       "486         5       2024-B5  \n",
       "487         5       2024-B5  \n",
       "\n",
       "[488 rows x 33 columns]"
      ]
     },
     "execution_count": 65,
     "metadata": {},
     "output_type": "execute_result"
    }
   ],
   "source": [
    "df"
   ]
  }
 ],
 "metadata": {
  "kernelspec": {
   "display_name": "Python 3 (ipykernel)",
   "language": "python",
   "name": "python3"
  },
  "language_info": {
   "codemirror_mode": {
    "name": "ipython",
    "version": 3
   },
   "file_extension": ".py",
   "mimetype": "text/x-python",
   "name": "python",
   "nbconvert_exporter": "python",
   "pygments_lexer": "ipython3",
   "version": "3.11.9"
  }
 },
 "nbformat": 4,
 "nbformat_minor": 2
}
